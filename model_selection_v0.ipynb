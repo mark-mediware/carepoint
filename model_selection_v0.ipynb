{
 "cells": [
  {
   "cell_type": "code",
   "execution_count": 1,
   "metadata": {},
   "outputs": [
    {
     "name": "stderr",
     "output_type": "stream",
     "text": [
      "C:\\tooling\\Anaconda3\\lib\\site-packages\\sklearn\\cross_validation.py:41: DeprecationWarning: This module was deprecated in version 0.18 in favor of the model_selection module into which all the refactored classes and functions are moved. Also note that the interface of the new CV iterators are different from that of this module. This module will be removed in 0.20.\n",
      "  \"This module will be removed in 0.20.\", DeprecationWarning)\n"
     ]
    }
   ],
   "source": [
    "%matplotlib inline\n",
    "#load libraries\n",
    "import pandas as pd\n",
    "import numpy as np\n",
    "from sklearn.cross_validation import train_test_split\n",
    "from sklearn.neighbors import KNeighborsClassifier #baseline model\n",
    "from sklearn import metrics\n",
    "import matplotlib.pyplot as plt\n",
    "from sklearn.model_selection import StratifiedKFold\n",
    "from sklearn.feature_selection import RFECV\n",
    "from sklearn.linear_model import LogisticRegression\n",
    "from sklearn.preprocessing import StandardScaler\n",
    "from sklearn.pipeline import Pipeline\n",
    "from sklearn.model_selection import cross_val_score, GridSearchCV\n",
    "from sklearn.feature_selection import SelectKBest, f_classif\n",
    "from sklearn.preprocessing import Imputer\n",
    "from sklearn.tree import DecisionTreeClassifier \n",
    "\n",
    "from IPython.display import display #displays full dataframe columns\n",
    "#display all dataframe columns when printed\n",
    "pd.options.display.max_columns = None"
   ]
  },
  {
   "cell_type": "code",
   "execution_count": 2,
   "metadata": {},
   "outputs": [
    {
     "data": {
      "text/plain": [
       "(271541, 120)"
      ]
     },
     "execution_count": 2,
     "metadata": {},
     "output_type": "execute_result"
    }
   ],
   "source": [
    "#load data\n",
    "df = pd.read_csv('C:/Users/Mark.Burghart/Documents/projects/hospice_carepoint/data/transformed/carepoint_transformed_dummied.csv', index_col=0)\n",
    "df.shape"
   ]
  },
  {
   "cell_type": "markdown",
   "metadata": {},
   "source": [
    "Need to still create building/holdout sets (80/20), cross validation of building set, impute missing values (set to 0 for now).\n",
    "<br>\n",
    "<br>\n",
    "Pipeline todo: missing data, feature selection, grid search hyperparameter tuning, model training.\n",
    "<br><br>\n",
    "pipe flow: Fill in missing data, feature selection, model training and tuning via grid search. \n",
    "\n"
   ]
  },
  {
   "cell_type": "markdown",
   "metadata": {},
   "source": [
    "### Train/Test Split\n"
   ]
  },
  {
   "cell_type": "code",
   "execution_count": 3,
   "metadata": {},
   "outputs": [
    {
     "data": {
      "text/plain": [
       "(271541, 119)"
      ]
     },
     "execution_count": 3,
     "metadata": {},
     "output_type": "execute_result"
    }
   ],
   "source": [
    "#separate variables (X) from outcome of interest (y)\n",
    "df.shape\n",
    "cols = df.columns.get_values() #converts column names to list\n",
    "cols = cols.tolist()\n",
    "feature_cols = [x for x in cols if x != 'death_within_7_days'] #removes outcome of interest from list ('death_within_7_days')\n",
    "\n",
    "#extract rows\n",
    "#print(feature_cols) #debug\n",
    "X = df.loc[:, feature_cols]\n",
    "X.shape #outcome column has been removed"
   ]
  },
  {
   "cell_type": "code",
   "execution_count": 4,
   "metadata": {},
   "outputs": [
    {
     "data": {
      "text/plain": [
       "(271541,)"
      ]
     },
     "execution_count": 4,
     "metadata": {},
     "output_type": "execute_result"
    }
   ],
   "source": [
    "#save outcome variable as y\n",
    "y = df.death_within_7_days\n",
    "y.shape"
   ]
  },
  {
   "cell_type": "code",
   "execution_count": 5,
   "metadata": {},
   "outputs": [],
   "source": [
    "#separate data into training/test (aka holdout) sets\n",
    "X_train, X_test, y_train, y_test = train_test_split(X, y, test_size = 0.30, random_state = 23) #random_state for reproducibility (if needed)\n",
    "#X_test, y_test should not be used until NO MORE decisions are being made. This is the final, FINAL validation, and more often just used for model performance and generalizability!"
   ]
  },
  {
   "cell_type": "markdown",
   "metadata": {},
   "source": [
    "<br> \n",
    "# Pipepline for imputation, feature selection, and model training/tuning<br><br>\n",
    "#### Logistic Regression with L1 Lasso Penalty, imputation = Median columnar value\n"
   ]
  },
  {
   "cell_type": "markdown",
   "metadata": {},
   "source": [
    "First up: Logistic Regression models. Going to try both L1 and L2 Regularization.<br><br>\n",
    "Note: For *MISSING DATA*,  I am **IMPUTING THE MEDIAN COLUMN VALUE**, as opposed to setting to 0, or kNN imputation as of now."
   ]
  },
  {
   "cell_type": "code",
   "execution_count": 6,
   "metadata": {},
   "outputs": [],
   "source": [
    "kbest = SelectKBest(f_classif) #select best 'k' features\n",
    "logreg = LogisticRegression(penalty = 'l1', random_state = 0) #L1 Regularization\n",
    "impute = Imputer(missing_values = 'NaN', strategy = 'median', axis = 0) #impute missing values: replacing NaNs with Median Column value for each column\n",
    "\n",
    "#Pipeline for Logistic Regression with L1 Lasso Regularization\n",
    "pipe_lr_l1 = Pipeline([('imputer', impute),\n",
    "                       ('kbest', kbest),\n",
    "                      ('lr', logreg)])"
   ]
  },
  {
   "cell_type": "code",
   "execution_count": 7,
   "metadata": {},
   "outputs": [],
   "source": [
    "#parameters for grid search cross validation \n",
    "parameters = {'kbest__k': [5, 10, 20,40, 60], #building models with 40, 60, 80, and 100 most significant variables\n",
    "                 'lr__C' : [0.01, 0.1, 1, 10, 100]} #tuning C for logistic regression"
   ]
  },
  {
   "cell_type": "code",
   "execution_count": 8,
   "metadata": {},
   "outputs": [],
   "source": [
    "#grid search\n",
    "grid = GridSearchCV(pipe_lr_l1, parameters, cv = 5, scoring = 'roc_auc') #run grid on parameters, 5-fold cross validation, AUC is evaluation metric"
   ]
  },
  {
   "cell_type": "code",
   "execution_count": 9,
   "metadata": {},
   "outputs": [
    {
     "name": "stderr",
     "output_type": "stream",
     "text": [
      "C:\\tooling\\Anaconda3\\lib\\site-packages\\sklearn\\feature_selection\\univariate_selection.py:113: UserWarning: Features [86] are constant.\n",
      "  UserWarning)\n",
      "C:\\tooling\\Anaconda3\\lib\\site-packages\\sklearn\\feature_selection\\univariate_selection.py:114: RuntimeWarning: invalid value encountered in true_divide\n",
      "  f = msb / msw\n",
      "C:\\tooling\\Anaconda3\\lib\\site-packages\\sklearn\\feature_selection\\univariate_selection.py:113: UserWarning: Features [86] are constant.\n",
      "  UserWarning)\n",
      "C:\\tooling\\Anaconda3\\lib\\site-packages\\sklearn\\feature_selection\\univariate_selection.py:114: RuntimeWarning: invalid value encountered in true_divide\n",
      "  f = msb / msw\n",
      "C:\\tooling\\Anaconda3\\lib\\site-packages\\sklearn\\feature_selection\\univariate_selection.py:113: UserWarning: Features [86] are constant.\n",
      "  UserWarning)\n",
      "C:\\tooling\\Anaconda3\\lib\\site-packages\\sklearn\\feature_selection\\univariate_selection.py:114: RuntimeWarning: invalid value encountered in true_divide\n",
      "  f = msb / msw\n",
      "C:\\tooling\\Anaconda3\\lib\\site-packages\\sklearn\\feature_selection\\univariate_selection.py:113: UserWarning: Features [86] are constant.\n",
      "  UserWarning)\n",
      "C:\\tooling\\Anaconda3\\lib\\site-packages\\sklearn\\feature_selection\\univariate_selection.py:114: RuntimeWarning: invalid value encountered in true_divide\n",
      "  f = msb / msw\n",
      "C:\\tooling\\Anaconda3\\lib\\site-packages\\sklearn\\feature_selection\\univariate_selection.py:113: UserWarning: Features [86] are constant.\n",
      "  UserWarning)\n",
      "C:\\tooling\\Anaconda3\\lib\\site-packages\\sklearn\\feature_selection\\univariate_selection.py:114: RuntimeWarning: invalid value encountered in true_divide\n",
      "  f = msb / msw\n",
      "C:\\tooling\\Anaconda3\\lib\\site-packages\\sklearn\\feature_selection\\univariate_selection.py:113: UserWarning: Features [86] are constant.\n",
      "  UserWarning)\n",
      "C:\\tooling\\Anaconda3\\lib\\site-packages\\sklearn\\feature_selection\\univariate_selection.py:114: RuntimeWarning: invalid value encountered in true_divide\n",
      "  f = msb / msw\n",
      "C:\\tooling\\Anaconda3\\lib\\site-packages\\sklearn\\feature_selection\\univariate_selection.py:113: UserWarning: Features [86] are constant.\n",
      "  UserWarning)\n",
      "C:\\tooling\\Anaconda3\\lib\\site-packages\\sklearn\\feature_selection\\univariate_selection.py:114: RuntimeWarning: invalid value encountered in true_divide\n",
      "  f = msb / msw\n",
      "C:\\tooling\\Anaconda3\\lib\\site-packages\\sklearn\\feature_selection\\univariate_selection.py:113: UserWarning: Features [86] are constant.\n",
      "  UserWarning)\n",
      "C:\\tooling\\Anaconda3\\lib\\site-packages\\sklearn\\feature_selection\\univariate_selection.py:114: RuntimeWarning: invalid value encountered in true_divide\n",
      "  f = msb / msw\n",
      "C:\\tooling\\Anaconda3\\lib\\site-packages\\sklearn\\feature_selection\\univariate_selection.py:113: UserWarning: Features [86] are constant.\n",
      "  UserWarning)\n",
      "C:\\tooling\\Anaconda3\\lib\\site-packages\\sklearn\\feature_selection\\univariate_selection.py:114: RuntimeWarning: invalid value encountered in true_divide\n",
      "  f = msb / msw\n",
      "C:\\tooling\\Anaconda3\\lib\\site-packages\\sklearn\\feature_selection\\univariate_selection.py:113: UserWarning: Features [86] are constant.\n",
      "  UserWarning)\n",
      "C:\\tooling\\Anaconda3\\lib\\site-packages\\sklearn\\feature_selection\\univariate_selection.py:114: RuntimeWarning: invalid value encountered in true_divide\n",
      "  f = msb / msw\n",
      "C:\\tooling\\Anaconda3\\lib\\site-packages\\sklearn\\feature_selection\\univariate_selection.py:113: UserWarning: Features [86] are constant.\n",
      "  UserWarning)\n",
      "C:\\tooling\\Anaconda3\\lib\\site-packages\\sklearn\\feature_selection\\univariate_selection.py:114: RuntimeWarning: invalid value encountered in true_divide\n",
      "  f = msb / msw\n",
      "C:\\tooling\\Anaconda3\\lib\\site-packages\\sklearn\\feature_selection\\univariate_selection.py:113: UserWarning: Features [86] are constant.\n",
      "  UserWarning)\n",
      "C:\\tooling\\Anaconda3\\lib\\site-packages\\sklearn\\feature_selection\\univariate_selection.py:114: RuntimeWarning: invalid value encountered in true_divide\n",
      "  f = msb / msw\n",
      "C:\\tooling\\Anaconda3\\lib\\site-packages\\sklearn\\feature_selection\\univariate_selection.py:113: UserWarning: Features [86] are constant.\n",
      "  UserWarning)\n",
      "C:\\tooling\\Anaconda3\\lib\\site-packages\\sklearn\\feature_selection\\univariate_selection.py:114: RuntimeWarning: invalid value encountered in true_divide\n",
      "  f = msb / msw\n",
      "C:\\tooling\\Anaconda3\\lib\\site-packages\\sklearn\\feature_selection\\univariate_selection.py:113: UserWarning: Features [86] are constant.\n",
      "  UserWarning)\n",
      "C:\\tooling\\Anaconda3\\lib\\site-packages\\sklearn\\feature_selection\\univariate_selection.py:114: RuntimeWarning: invalid value encountered in true_divide\n",
      "  f = msb / msw\n",
      "C:\\tooling\\Anaconda3\\lib\\site-packages\\sklearn\\feature_selection\\univariate_selection.py:113: UserWarning: Features [86] are constant.\n",
      "  UserWarning)\n",
      "C:\\tooling\\Anaconda3\\lib\\site-packages\\sklearn\\feature_selection\\univariate_selection.py:114: RuntimeWarning: invalid value encountered in true_divide\n",
      "  f = msb / msw\n",
      "C:\\tooling\\Anaconda3\\lib\\site-packages\\sklearn\\feature_selection\\univariate_selection.py:113: UserWarning: Features [86] are constant.\n",
      "  UserWarning)\n",
      "C:\\tooling\\Anaconda3\\lib\\site-packages\\sklearn\\feature_selection\\univariate_selection.py:114: RuntimeWarning: invalid value encountered in true_divide\n",
      "  f = msb / msw\n",
      "C:\\tooling\\Anaconda3\\lib\\site-packages\\sklearn\\feature_selection\\univariate_selection.py:113: UserWarning: Features [86] are constant.\n",
      "  UserWarning)\n",
      "C:\\tooling\\Anaconda3\\lib\\site-packages\\sklearn\\feature_selection\\univariate_selection.py:114: RuntimeWarning: invalid value encountered in true_divide\n",
      "  f = msb / msw\n",
      "C:\\tooling\\Anaconda3\\lib\\site-packages\\sklearn\\feature_selection\\univariate_selection.py:113: UserWarning: Features [86] are constant.\n",
      "  UserWarning)\n",
      "C:\\tooling\\Anaconda3\\lib\\site-packages\\sklearn\\feature_selection\\univariate_selection.py:114: RuntimeWarning: invalid value encountered in true_divide\n",
      "  f = msb / msw\n",
      "C:\\tooling\\Anaconda3\\lib\\site-packages\\sklearn\\feature_selection\\univariate_selection.py:113: UserWarning: Features [86] are constant.\n",
      "  UserWarning)\n",
      "C:\\tooling\\Anaconda3\\lib\\site-packages\\sklearn\\feature_selection\\univariate_selection.py:114: RuntimeWarning: invalid value encountered in true_divide\n",
      "  f = msb / msw\n",
      "C:\\tooling\\Anaconda3\\lib\\site-packages\\sklearn\\feature_selection\\univariate_selection.py:113: UserWarning: Features [86] are constant.\n",
      "  UserWarning)\n",
      "C:\\tooling\\Anaconda3\\lib\\site-packages\\sklearn\\feature_selection\\univariate_selection.py:114: RuntimeWarning: invalid value encountered in true_divide\n",
      "  f = msb / msw\n",
      "C:\\tooling\\Anaconda3\\lib\\site-packages\\sklearn\\feature_selection\\univariate_selection.py:113: UserWarning: Features [86] are constant.\n",
      "  UserWarning)\n",
      "C:\\tooling\\Anaconda3\\lib\\site-packages\\sklearn\\feature_selection\\univariate_selection.py:114: RuntimeWarning: invalid value encountered in true_divide\n",
      "  f = msb / msw\n",
      "C:\\tooling\\Anaconda3\\lib\\site-packages\\sklearn\\feature_selection\\univariate_selection.py:113: UserWarning: Features [86] are constant.\n",
      "  UserWarning)\n",
      "C:\\tooling\\Anaconda3\\lib\\site-packages\\sklearn\\feature_selection\\univariate_selection.py:114: RuntimeWarning: invalid value encountered in true_divide\n",
      "  f = msb / msw\n",
      "C:\\tooling\\Anaconda3\\lib\\site-packages\\sklearn\\feature_selection\\univariate_selection.py:113: UserWarning: Features [86] are constant.\n",
      "  UserWarning)\n",
      "C:\\tooling\\Anaconda3\\lib\\site-packages\\sklearn\\feature_selection\\univariate_selection.py:114: RuntimeWarning: invalid value encountered in true_divide\n",
      "  f = msb / msw\n",
      "C:\\tooling\\Anaconda3\\lib\\site-packages\\sklearn\\feature_selection\\univariate_selection.py:113: UserWarning: Features [86] are constant.\n",
      "  UserWarning)\n",
      "C:\\tooling\\Anaconda3\\lib\\site-packages\\sklearn\\feature_selection\\univariate_selection.py:114: RuntimeWarning: invalid value encountered in true_divide\n",
      "  f = msb / msw\n",
      "C:\\tooling\\Anaconda3\\lib\\site-packages\\sklearn\\feature_selection\\univariate_selection.py:113: UserWarning: Features [86] are constant.\n",
      "  UserWarning)\n",
      "C:\\tooling\\Anaconda3\\lib\\site-packages\\sklearn\\feature_selection\\univariate_selection.py:114: RuntimeWarning: invalid value encountered in true_divide\n",
      "  f = msb / msw\n"
     ]
    },
    {
     "name": "stdout",
     "output_type": "stream",
     "text": [
      "Wall time: 41min 21s\n"
     ]
    },
    {
     "data": {
      "text/plain": [
       "GridSearchCV(cv=5, error_score='raise',\n",
       "       estimator=Pipeline(memory=None,\n",
       "     steps=[('imputer', Imputer(axis=0, copy=True, missing_values='NaN', strategy='median', verbose=0)), ('kbest', SelectKBest(k=10, score_func=<function f_classif at 0x000001D758DF30D0>)), ('lr', LogisticRegression(C=1.0, class_weight=None, dual=False, fit_intercept=True,\n",
       "          intercept_scaling=1, max_iter=100, multi_class='ovr', n_jobs=1,\n",
       "          penalty='l1', random_state=0, solver='liblinear', tol=0.0001,\n",
       "          verbose=0, warm_start=False))]),\n",
       "       fit_params=None, iid=True, n_jobs=1,\n",
       "       param_grid={'kbest__k': [5, 10, 20, 40, 60], 'lr__C': [0.01, 0.1, 1, 10, 100]},\n",
       "       pre_dispatch='2*n_jobs', refit=True, return_train_score='warn',\n",
       "       scoring='roc_auc', verbose=0)"
      ]
     },
     "execution_count": 9,
     "metadata": {},
     "output_type": "execute_result"
    }
   ],
   "source": [
    "%%time\n",
    "#fit models\n",
    "grid.fit(X_train,y_train)\n"
   ]
  },
  {
   "cell_type": "markdown",
   "metadata": {},
   "source": [
    "Model interpretations:<br><br>\n",
    "feature [86] is constant, meaning the value is constant for all visits and patients (and should be removed from model).<br><br>\n",
    "true_divide warning is likely due to feature[86], and is trying to divide by 0 variance...\n",
    "\n"
   ]
  },
  {
   "cell_type": "code",
   "execution_count": 10,
   "metadata": {},
   "outputs": [
    {
     "name": "stdout",
     "output_type": "stream",
     "text": [
      "Best estimator:\n",
      "Pipeline(memory=None,\n",
      "     steps=[('imputer', Imputer(axis=0, copy=True, missing_values='NaN', strategy='median', verbose=0)), ('kbest', SelectKBest(k=60, score_func=<function f_classif at 0x000001D758DF30D0>)), ('lr', LogisticRegression(C=100, class_weight=None, dual=False, fit_intercept=True,\n",
      "          intercept_scaling=1, max_iter=100, multi_class='ovr', n_jobs=1,\n",
      "          penalty='l1', random_state=0, solver='liblinear', tol=0.0001,\n",
      "          verbose=0, warm_start=False))])\n",
      "Logistic Regression step:\n",
      "LogisticRegression(C=100, class_weight=None, dual=False, fit_intercept=True,\n",
      "          intercept_scaling=1, max_iter=100, multi_class='ovr', n_jobs=1,\n",
      "          penalty='l1', random_state=0, solver='liblinear', tol=0.0001,\n",
      "          verbose=0, warm_start=False)\n",
      "Logistic Regression coefficients:\n",
      "[[ 9.52683832e-04 -1.32666922e-01  1.19567914e-01  1.69686820e-01\n",
      "  -1.01592255e-02  9.30324824e-02  5.69836653e-02  9.69037316e-02\n",
      "  -4.59095858e-03  4.14169229e-02  1.53879735e-01  1.20989111e-01\n",
      "   1.07812544e-01  1.79547202e-01 -2.17536858e-02 -5.33387353e-02\n",
      "  -1.19502729e-02  4.84072800e-02  3.10457016e-02  4.65516862e-02\n",
      "   5.24860120e-02 -9.38383917e-02  6.43849016e-02 -3.27581190e-02\n",
      "  -1.47932913e-01 -6.28983605e-02 -9.05382957e-02 -2.22725596e-01\n",
      "   5.23189960e-02  7.46039815e-02  3.17239046e-02 -7.00114841e-02\n",
      "  -3.51952582e-02 -7.19563605e-02 -9.15547865e-02  7.57175911e-02\n",
      "  -9.77185174e-02 -4.15050614e-02 -4.83598814e-02 -1.63318886e-02\n",
      "  -1.19760171e-02 -2.42172796e-02 -1.48213854e-02 -3.07466560e-02\n",
      "   1.04659761e-02  2.95015449e-02 -9.26388478e-03  1.09772835e-02\n",
      "  -3.89540036e-01  2.08573298e-02  1.55618035e-02  3.26809137e-01\n",
      "   4.57919480e-01  1.44271967e+00 -8.39588277e-02  4.79936463e-01\n",
      "   2.80831084e-02  5.01410403e-01 -9.13027207e-02  2.62500613e-01]]\n",
      "Best Parameters: {'kbest__k': 60, 'lr__C': 100}\n",
      "Best cross validation score: 0.81\n"
     ]
    }
   ],
   "source": [
    "print(\"Best estimator:\\n{}\".format(grid.best_estimator_)) #prints best model and pipeline\n",
    "print(\"Logistic Regression step:\\n{}\".format(grid.best_estimator_.named_steps[\"lr\"])) #prints logistic regression step of pipeline\n",
    "print(\"Logistic Regression coefficients:\\n{}\".format(grid.best_estimator_.named_steps[\"lr\"].coef_)) #prints coefficients of best estimator\n",
    "print(\"Best Parameters: {}\".format(grid.best_params_)) #outputs best parameters settings\n",
    "print(\"Best cross validation score: {:.2f}\".format(grid.best_score_)) #best produced cross validation score"
   ]
  },
  {
   "cell_type": "code",
   "execution_count": 11,
   "metadata": {},
   "outputs": [
    {
     "name": "stdout",
     "output_type": "stream",
     "text": [
      "Grid scores on training set: \n",
      "0.753 (+/-0.001) for {'kbest__k': 5, 'lr__C': 0.01}\n",
      "0.753 (+/-0.001) for {'kbest__k': 5, 'lr__C': 0.1}\n",
      "0.753 (+/-0.001) for {'kbest__k': 5, 'lr__C': 1}\n",
      "0.753 (+/-0.001) for {'kbest__k': 5, 'lr__C': 10}\n",
      "0.753 (+/-0.001) for {'kbest__k': 5, 'lr__C': 100}\n",
      "0.766 (+/-0.001) for {'kbest__k': 10, 'lr__C': 0.01}\n",
      "0.766 (+/-0.001) for {'kbest__k': 10, 'lr__C': 0.1}\n",
      "0.766 (+/-0.001) for {'kbest__k': 10, 'lr__C': 1}\n",
      "0.766 (+/-0.001) for {'kbest__k': 10, 'lr__C': 10}\n",
      "0.766 (+/-0.001) for {'kbest__k': 10, 'lr__C': 100}\n",
      "0.787 (+/-0.001) for {'kbest__k': 20, 'lr__C': 0.01}\n",
      "0.787 (+/-0.001) for {'kbest__k': 20, 'lr__C': 0.1}\n",
      "0.787 (+/-0.001) for {'kbest__k': 20, 'lr__C': 1}\n",
      "0.787 (+/-0.001) for {'kbest__k': 20, 'lr__C': 10}\n",
      "0.787 (+/-0.001) for {'kbest__k': 20, 'lr__C': 100}\n",
      "0.807 (+/-0.000) for {'kbest__k': 40, 'lr__C': 0.01}\n",
      "0.808 (+/-0.000) for {'kbest__k': 40, 'lr__C': 0.1}\n",
      "0.808 (+/-0.000) for {'kbest__k': 40, 'lr__C': 1}\n",
      "0.808 (+/-0.000) for {'kbest__k': 40, 'lr__C': 10}\n",
      "0.808 (+/-0.000) for {'kbest__k': 40, 'lr__C': 100}\n",
      "0.813 (+/-0.001) for {'kbest__k': 60, 'lr__C': 0.01}\n",
      "0.814 (+/-0.000) for {'kbest__k': 60, 'lr__C': 0.1}\n",
      "0.814 (+/-0.000) for {'kbest__k': 60, 'lr__C': 1}\n",
      "0.814 (+/-0.000) for {'kbest__k': 60, 'lr__C': 10}\n",
      "0.814 (+/-0.000) for {'kbest__k': 60, 'lr__C': 100}\n",
      "Grid scores on Development set: \n",
      "0.753 (+/-0.003) for {'kbest__k': 5, 'lr__C': 0.01}\n",
      "0.753 (+/-0.003) for {'kbest__k': 5, 'lr__C': 0.1}\n",
      "0.753 (+/-0.003) for {'kbest__k': 5, 'lr__C': 1}\n",
      "0.753 (+/-0.003) for {'kbest__k': 5, 'lr__C': 10}\n",
      "0.753 (+/-0.003) for {'kbest__k': 5, 'lr__C': 100}\n",
      "0.765 (+/-0.002) for {'kbest__k': 10, 'lr__C': 0.01}\n",
      "0.766 (+/-0.003) for {'kbest__k': 10, 'lr__C': 0.1}\n",
      "0.766 (+/-0.003) for {'kbest__k': 10, 'lr__C': 1}\n",
      "0.766 (+/-0.003) for {'kbest__k': 10, 'lr__C': 10}\n",
      "0.766 (+/-0.003) for {'kbest__k': 10, 'lr__C': 100}\n",
      "0.787 (+/-0.002) for {'kbest__k': 20, 'lr__C': 0.01}\n",
      "0.787 (+/-0.002) for {'kbest__k': 20, 'lr__C': 0.1}\n",
      "0.787 (+/-0.002) for {'kbest__k': 20, 'lr__C': 1}\n",
      "0.787 (+/-0.002) for {'kbest__k': 20, 'lr__C': 10}\n",
      "0.787 (+/-0.002) for {'kbest__k': 20, 'lr__C': 100}\n",
      "0.807 (+/-0.002) for {'kbest__k': 40, 'lr__C': 0.01}\n",
      "0.807 (+/-0.002) for {'kbest__k': 40, 'lr__C': 0.1}\n",
      "0.807 (+/-0.002) for {'kbest__k': 40, 'lr__C': 1}\n",
      "0.807 (+/-0.002) for {'kbest__k': 40, 'lr__C': 10}\n",
      "0.807 (+/-0.002) for {'kbest__k': 40, 'lr__C': 100}\n",
      "0.813 (+/-0.002) for {'kbest__k': 60, 'lr__C': 0.01}\n",
      "0.814 (+/-0.002) for {'kbest__k': 60, 'lr__C': 0.1}\n",
      "0.814 (+/-0.002) for {'kbest__k': 60, 'lr__C': 1}\n",
      "0.814 (+/-0.002) for {'kbest__k': 60, 'lr__C': 10}\n",
      "0.814 (+/-0.002) for {'kbest__k': 60, 'lr__C': 100}\n"
     ]
    },
    {
     "name": "stderr",
     "output_type": "stream",
     "text": [
      "C:\\tooling\\Anaconda3\\lib\\site-packages\\sklearn\\utils\\deprecation.py:122: FutureWarning: You are accessing a training score ('mean_train_score'), which will not be available by default any more in 0.21. If you need training scores, please set return_train_score=True\n",
      "  warnings.warn(*warn_args, **warn_kwargs)\n",
      "C:\\tooling\\Anaconda3\\lib\\site-packages\\sklearn\\utils\\deprecation.py:122: FutureWarning: You are accessing a training score ('std_train_score'), which will not be available by default any more in 0.21. If you need training scores, please set return_train_score=True\n",
      "  warnings.warn(*warn_args, **warn_kwargs)\n"
     ]
    }
   ],
   "source": [
    "#AUC scores for each training set run\n",
    "print(\"Grid scores on training set: \")\n",
    "means = grid.cv_results_['mean_train_score']\n",
    "stds = grid.cv_results_['std_train_score']\n",
    "\n",
    "for mean, std, params in zip(means, stds, grid.cv_results_['params']): #note imbedded grid_l2 will need to be adjusted to correct object\n",
    "    print(\"%0.3f (+/-%0.3f) for %r\"\n",
    "         % (mean, std *2, params))\n",
    "    \n",
    "#AUC scores for each validation set run\n",
    "print(\"Grid scores on Development set: \")\n",
    "means = grid.cv_results_['mean_test_score']\n",
    "stds = grid.cv_results_['std_test_score']\n",
    "\n",
    "for mean, std, params in zip(means, stds, grid.cv_results_['params']): #note imbedded grid_l2 will need to be adjusted to correct object\n",
    "    print(\"%0.3f (+/-%0.3f) for %r\"\n",
    "         % (mean, std *2, params))"
   ]
  },
  {
   "cell_type": "code",
   "execution_count": 12,
   "metadata": {},
   "outputs": [],
   "source": [
    "#return variables of significance\n",
    "#start with 40\n",
    "fill_NaN = Imputer(missing_values=np.nan, strategy='median', axis=0)\n",
    "imputed_X_train = pd.DataFrame(fill_NaN.fit_transform(X_train))\n",
    "imputed_X_train.columns = X_train.columns\n",
    "imputed_X_train.index = X_train.index\n",
    "\n",
    "#display columns..."
   ]
  },
  {
   "cell_type": "code",
   "execution_count": 13,
   "metadata": {},
   "outputs": [
    {
     "name": "stdout",
     "output_type": "stream",
     "text": [
      "Index(['gender', 'Anxiety', 'Depression', 'Drowsiness', 'Lack_of_Appetite',\n",
      "       'Nausea', 'Pain', 'Shortness_of_Breath', 'Tiredness', 'Wellbeing',\n",
      "       'LengthOfCare_days', '3_visit_max_anxiety', '3_visit_max_depression',\n",
      "       '3_visit_max_drowsiness', '3_visit_max_lackofappetite',\n",
      "       '3_visit_max_nausea', '3_visit_max_pain',\n",
      "       '3_visit_max_shortnessofbreath', '3_visit_max_tiredness',\n",
      "       '3_visit_max_wellbeing', '5_visit_max_anxiety',\n",
      "       '5_visit_max_depression', '5_visit_max_drowsiness',\n",
      "       '5_visit_max_lackofappetite', '5_visit_max_nausea', '5_visit_max_pain',\n",
      "       '5_visit_max_shortnessofbreath', '5_visit_max_tiredness',\n",
      "       '5_visit_max_wellbeing', '3_visit_mean_anxiety',\n",
      "       '3_visit_mean_depression', '3_visit_mean_drowsiness',\n",
      "       '3_visit_mean_lackofappetite', '3_visit_mean_nausea',\n",
      "       '3_visit_mean_pain', '3_visit_mean_shortnessofbreath',\n",
      "       '3_visit_mean_tiredness', '3_visit_mean_wellbeing',\n",
      "       '5_visit_mean_depression', '5_visit_mean_drowsiness',\n",
      "       '5_visit_mean_lackofappetite', '5_visit_mean_pain',\n",
      "       '5_visit_mean_shortnessofbreath', '5_visit_mean_tiredness',\n",
      "       '5_visit_mean_wellbeing', 'Anxiety_change', 'Depression_change',\n",
      "       'Drowsiness_change', 'LackofAppetite_change', 'Nausea_change',\n",
      "       'ShortnessofBreath_change', 'Tiredness_change', 'Wellbeing_change',\n",
      "       'Age', 'ESAS_visit_total', '3_visit_max_esas', '5_visit_max_esas',\n",
      "       '3_visit_mean_esas', '5_visit_mean_esas', 'ESAS_change',\n",
      "       'AdvanceDirective_Yes - Do Not Resuscitate (DNR)',\n",
      "       'AdvanceDirective_Yes - Full Code / Advanced Cardiac Life Support (ACLS)',\n",
      "       'ReferralType_Clinic or physician's office',\n",
      "       'ReferralType_Court/Law Enforcement',\n",
      "       'ReferralType_Information not available',\n",
      "       'ReferralType_Non-health care facility',\n",
      "       'ReferralType_Transfer from Home Health Agency',\n",
      "       'ReferralType_Transfer from Hospice',\n",
      "       'ReferralType_Transfer from SNF or ICF',\n",
      "       'ReferralType_Transfer from hospital', 'LevelofCare_Continuous (CHC)',\n",
      "       'LevelofCare_Inpatient (GIP)', 'LevelofCare_Routine',\n",
      "       'Race_American Indian or Alaskan Native', 'Race_Asian',\n",
      "       'Race_Black or African American', 'Race_Hispanic or Latino',\n",
      "       'Race_Native Hawaiian or Pacific Islander', 'Race_White',\n",
      "       'InsuranceType_Medicaid (HMO/Managed Care)',\n",
      "       'InsuranceType_Medicare Traditional', 'InsuranceType_Other',\n",
      "       'InsuranceType_Other Government',\n",
      "       'InsuranceType_Private HMO/Managed Care',\n",
      "       'InsuranceType_Private Insurance', 'InsuranceType_Private Pay',\n",
      "       'InsuranceType_Self-Pay',\n",
      "       'icd10_cluster_Certain conditions originating in the perinatal period',\n",
      "       'icd10_cluster_Certain infectious and parasitic diseases',\n",
      "       'icd10_cluster_Congenital malformations, deformations and chromosomal abnormalities',\n",
      "       'icd10_cluster_Diseases of the circulatory system',\n",
      "       'icd10_cluster_Diseases of the digestive system',\n",
      "       'icd10_cluster_Diseases of the genitourinary system',\n",
      "       'icd10_cluster_Diseases of the nervous system',\n",
      "       'icd10_cluster_Diseases of the respiratory system',\n",
      "       'icd10_cluster_Diseases of the skin and subcutaneous tissue',\n",
      "       'icd10_cluster_Endocrine, nutritional, and metabolic diseases',\n",
      "       'icd10_cluster_Injury, poisonining, and certain other consequences of external causes',\n",
      "       'icd10_cluster_Mental and behavioural disorders',\n",
      "       'icd10_cluster_Neoplasms'],\n",
      "      dtype='object')\n",
      "[1.39639765e+02 5.53526305e+02 2.26788422e+02 2.01742152e+04\n",
      " 2.72523017e+04 7.59494229e+01 9.72511216e+02 4.39515476e+03\n",
      " 1.90306416e+04 9.63413484e+03 4.91992871e+03 1.06550276e+03\n",
      " 3.61965269e+00 1.59568080e+04 1.91791931e+04 4.62453430e+01\n",
      " 2.21227066e+03 3.47081652e+03 1.41164880e+04 6.20866855e+03\n",
      " 4.33358136e+02 1.75625477e+01 9.73190319e+03 1.18132839e+04\n",
      " 3.90799786e+00 1.38156565e+03 1.79441042e+03 8.26320409e+03\n",
      " 3.59809945e+03 6.48067848e+01 3.48774803e+02 1.09940378e+04\n",
      " 1.63347417e+04 1.86669215e+01 5.03239221e+02 9.91341917e+02\n",
      " 1.23513887e+04 6.06793656e+03 2.12169711e+00 4.14300049e+02\n",
      " 6.06018694e+03 9.98998475e+03 4.42916930e-03 1.85285625e+02\n",
      " 2.44242586e+02 7.71492995e+03 3.43520195e+03 9.80567789e+00\n",
      " 6.85092525e+00 1.10275455e+03 1.16543256e+03 5.25006095e+00\n",
      " 2.02896973e+00 7.59932101e+02 8.20228337e+02 4.29440419e+02\n",
      " 1.92851110e+01 7.97722679e+03 4.36305815e+03 2.51169854e+03\n",
      " 3.45220034e+03 1.68414118e+03 4.46570174e+02 2.90981603e+00\n",
      " 1.59852397e+00 5.94693920e+01 4.78266673e+02 3.11369165e+02\n",
      " 1.27956769e+01 4.07761378e+01 4.39045540e+02 1.76352275e+02\n",
      " 1.13142359e+02 2.18056354e+01 3.04911190e+03 2.36509985e+02\n",
      " 8.36734446e+03 3.22009039e+00 6.11453484e+03 8.24524524e+00\n",
      " 1.03100386e+01 5.78477024e+01 5.66931788e+01 2.13696264e+01\n",
      " 1.30153506e+02 1.18519167e+01 3.12628784e-01 2.64716683e+00\n",
      " 6.23603098e-01 8.72748984e-02 4.31799374e+01 2.54120026e-02\n",
      " 1.63499256e+01 1.37349156e+01 1.50365065e+02 3.57169898e+01\n",
      " 6.33253435e+00 2.02023973e+01 1.16778903e+00 1.06985550e+00\n",
      " 3.12648215e+00 2.82066846e+00 6.39755578e+00 2.08746621e+02\n",
      " 1.35073853e+01 2.69275441e+00 1.89320130e+02 1.51079912e+01\n",
      " 3.03940909e+02 1.82027164e+00 5.09223710e+02 9.24890696e+01\n",
      " 2.15739260e+01 2.61549903e+01 2.70912523e+00 8.95320646e+01\n",
      " 3.80683045e+00 1.16502978e+03 2.45941179e+00]\n"
     ]
    }
   ],
   "source": [
    "#return variables of significance\n",
    "#Return 100 features used in best model\n",
    "selector = SelectKBest(f_classif, k = 100)\n",
    "selector.fit(imputed_X_train, y_train)\n",
    "features = imputed_X_train.columns[selector.get_support()]\n",
    "print(features)\n",
    "scores = selector.scores_ #saves scores of features\n",
    "print(scores)"
   ]
  },
  {
   "cell_type": "markdown",
   "metadata": {},
   "source": [
    "**Logistic Regression with L1 penalty and median missing data imputation** <br><br>\n",
    "- Best model selected used parameters K = 100 (100 variables included), and C = 1 for LogReg model. \n",
    "- AUC scores ranged from 0.807 (40 variables, C = 0.01-100) to 0.817"
   ]
  },
  {
   "cell_type": "markdown",
   "metadata": {},
   "source": [
    "#### Logistic Regression with L2 Ridge Penalty, imputation = Median columnar value"
   ]
  },
  {
   "cell_type": "code",
   "execution_count": 14,
   "metadata": {},
   "outputs": [],
   "source": [
    "#Logistic regression with L2 Regularization penalty\n",
    "kbest = SelectKBest(f_classif) #select best 'k' features\n",
    "logreg_l2 = LogisticRegression(penalty = 'l2', random_state = 0) #L2 Ridge Regularization\n",
    "impute = Imputer(missing_values = 'NaN', strategy = 'median', axis = 0) #impute missing values: replacing NaNs with Median Column value for each column\n",
    "\n",
    "#Pipeline for Logistic Regression with L2 'Ridge' Regularization\n",
    "pipe_lr_l2 = Pipeline([('imputer', impute),\n",
    "                       ('kbest', kbest),\n",
    "                      ('lr', logreg_l2)])\n",
    "#parameters for grid search cross validation \n",
    "parameters = {'kbest__k': [5, 10, 20, 40, 60], #building models with 40, 60, 80, and 100 most significant variables\n",
    "                 'lr__C' : [0.01, 0.1, 1, 10, 100]} #tuning C for logistic regression\n",
    "\n",
    "#grid search\n",
    "grid_l2 = GridSearchCV(pipe_lr_l2, parameters, cv = 5, scoring = 'roc_auc') #run grid on parameters, 5-fold cross validation, AUC is evaluation metric\n",
    "\n"
   ]
  },
  {
   "cell_type": "code",
   "execution_count": 15,
   "metadata": {},
   "outputs": [
    {
     "name": "stderr",
     "output_type": "stream",
     "text": [
      "C:\\tooling\\Anaconda3\\lib\\site-packages\\sklearn\\feature_selection\\univariate_selection.py:113: UserWarning: Features [86] are constant.\n",
      "  UserWarning)\n",
      "C:\\tooling\\Anaconda3\\lib\\site-packages\\sklearn\\feature_selection\\univariate_selection.py:114: RuntimeWarning: invalid value encountered in true_divide\n",
      "  f = msb / msw\n",
      "C:\\tooling\\Anaconda3\\lib\\site-packages\\sklearn\\feature_selection\\univariate_selection.py:113: UserWarning: Features [86] are constant.\n",
      "  UserWarning)\n",
      "C:\\tooling\\Anaconda3\\lib\\site-packages\\sklearn\\feature_selection\\univariate_selection.py:114: RuntimeWarning: invalid value encountered in true_divide\n",
      "  f = msb / msw\n",
      "C:\\tooling\\Anaconda3\\lib\\site-packages\\sklearn\\feature_selection\\univariate_selection.py:113: UserWarning: Features [86] are constant.\n",
      "  UserWarning)\n",
      "C:\\tooling\\Anaconda3\\lib\\site-packages\\sklearn\\feature_selection\\univariate_selection.py:114: RuntimeWarning: invalid value encountered in true_divide\n",
      "  f = msb / msw\n",
      "C:\\tooling\\Anaconda3\\lib\\site-packages\\sklearn\\feature_selection\\univariate_selection.py:113: UserWarning: Features [86] are constant.\n",
      "  UserWarning)\n",
      "C:\\tooling\\Anaconda3\\lib\\site-packages\\sklearn\\feature_selection\\univariate_selection.py:114: RuntimeWarning: invalid value encountered in true_divide\n",
      "  f = msb / msw\n",
      "C:\\tooling\\Anaconda3\\lib\\site-packages\\sklearn\\feature_selection\\univariate_selection.py:113: UserWarning: Features [86] are constant.\n",
      "  UserWarning)\n",
      "C:\\tooling\\Anaconda3\\lib\\site-packages\\sklearn\\feature_selection\\univariate_selection.py:114: RuntimeWarning: invalid value encountered in true_divide\n",
      "  f = msb / msw\n",
      "C:\\tooling\\Anaconda3\\lib\\site-packages\\sklearn\\feature_selection\\univariate_selection.py:113: UserWarning: Features [86] are constant.\n",
      "  UserWarning)\n",
      "C:\\tooling\\Anaconda3\\lib\\site-packages\\sklearn\\feature_selection\\univariate_selection.py:114: RuntimeWarning: invalid value encountered in true_divide\n",
      "  f = msb / msw\n",
      "C:\\tooling\\Anaconda3\\lib\\site-packages\\sklearn\\feature_selection\\univariate_selection.py:113: UserWarning: Features [86] are constant.\n",
      "  UserWarning)\n",
      "C:\\tooling\\Anaconda3\\lib\\site-packages\\sklearn\\feature_selection\\univariate_selection.py:114: RuntimeWarning: invalid value encountered in true_divide\n",
      "  f = msb / msw\n",
      "C:\\tooling\\Anaconda3\\lib\\site-packages\\sklearn\\feature_selection\\univariate_selection.py:113: UserWarning: Features [86] are constant.\n",
      "  UserWarning)\n",
      "C:\\tooling\\Anaconda3\\lib\\site-packages\\sklearn\\feature_selection\\univariate_selection.py:114: RuntimeWarning: invalid value encountered in true_divide\n",
      "  f = msb / msw\n",
      "C:\\tooling\\Anaconda3\\lib\\site-packages\\sklearn\\feature_selection\\univariate_selection.py:113: UserWarning: Features [86] are constant.\n",
      "  UserWarning)\n",
      "C:\\tooling\\Anaconda3\\lib\\site-packages\\sklearn\\feature_selection\\univariate_selection.py:114: RuntimeWarning: invalid value encountered in true_divide\n",
      "  f = msb / msw\n",
      "C:\\tooling\\Anaconda3\\lib\\site-packages\\sklearn\\feature_selection\\univariate_selection.py:113: UserWarning: Features [86] are constant.\n",
      "  UserWarning)\n",
      "C:\\tooling\\Anaconda3\\lib\\site-packages\\sklearn\\feature_selection\\univariate_selection.py:114: RuntimeWarning: invalid value encountered in true_divide\n",
      "  f = msb / msw\n",
      "C:\\tooling\\Anaconda3\\lib\\site-packages\\sklearn\\feature_selection\\univariate_selection.py:113: UserWarning: Features [86] are constant.\n",
      "  UserWarning)\n",
      "C:\\tooling\\Anaconda3\\lib\\site-packages\\sklearn\\feature_selection\\univariate_selection.py:114: RuntimeWarning: invalid value encountered in true_divide\n",
      "  f = msb / msw\n",
      "C:\\tooling\\Anaconda3\\lib\\site-packages\\sklearn\\feature_selection\\univariate_selection.py:113: UserWarning: Features [86] are constant.\n",
      "  UserWarning)\n",
      "C:\\tooling\\Anaconda3\\lib\\site-packages\\sklearn\\feature_selection\\univariate_selection.py:114: RuntimeWarning: invalid value encountered in true_divide\n",
      "  f = msb / msw\n",
      "C:\\tooling\\Anaconda3\\lib\\site-packages\\sklearn\\feature_selection\\univariate_selection.py:113: UserWarning: Features [86] are constant.\n",
      "  UserWarning)\n",
      "C:\\tooling\\Anaconda3\\lib\\site-packages\\sklearn\\feature_selection\\univariate_selection.py:114: RuntimeWarning: invalid value encountered in true_divide\n",
      "  f = msb / msw\n",
      "C:\\tooling\\Anaconda3\\lib\\site-packages\\sklearn\\feature_selection\\univariate_selection.py:113: UserWarning: Features [86] are constant.\n",
      "  UserWarning)\n",
      "C:\\tooling\\Anaconda3\\lib\\site-packages\\sklearn\\feature_selection\\univariate_selection.py:114: RuntimeWarning: invalid value encountered in true_divide\n",
      "  f = msb / msw\n",
      "C:\\tooling\\Anaconda3\\lib\\site-packages\\sklearn\\feature_selection\\univariate_selection.py:113: UserWarning: Features [86] are constant.\n",
      "  UserWarning)\n",
      "C:\\tooling\\Anaconda3\\lib\\site-packages\\sklearn\\feature_selection\\univariate_selection.py:114: RuntimeWarning: invalid value encountered in true_divide\n",
      "  f = msb / msw\n",
      "C:\\tooling\\Anaconda3\\lib\\site-packages\\sklearn\\feature_selection\\univariate_selection.py:113: UserWarning: Features [86] are constant.\n",
      "  UserWarning)\n",
      "C:\\tooling\\Anaconda3\\lib\\site-packages\\sklearn\\feature_selection\\univariate_selection.py:114: RuntimeWarning: invalid value encountered in true_divide\n",
      "  f = msb / msw\n",
      "C:\\tooling\\Anaconda3\\lib\\site-packages\\sklearn\\feature_selection\\univariate_selection.py:113: UserWarning: Features [86] are constant.\n",
      "  UserWarning)\n",
      "C:\\tooling\\Anaconda3\\lib\\site-packages\\sklearn\\feature_selection\\univariate_selection.py:114: RuntimeWarning: invalid value encountered in true_divide\n",
      "  f = msb / msw\n",
      "C:\\tooling\\Anaconda3\\lib\\site-packages\\sklearn\\feature_selection\\univariate_selection.py:113: UserWarning: Features [86] are constant.\n",
      "  UserWarning)\n",
      "C:\\tooling\\Anaconda3\\lib\\site-packages\\sklearn\\feature_selection\\univariate_selection.py:114: RuntimeWarning: invalid value encountered in true_divide\n",
      "  f = msb / msw\n",
      "C:\\tooling\\Anaconda3\\lib\\site-packages\\sklearn\\feature_selection\\univariate_selection.py:113: UserWarning: Features [86] are constant.\n",
      "  UserWarning)\n",
      "C:\\tooling\\Anaconda3\\lib\\site-packages\\sklearn\\feature_selection\\univariate_selection.py:114: RuntimeWarning: invalid value encountered in true_divide\n",
      "  f = msb / msw\n",
      "C:\\tooling\\Anaconda3\\lib\\site-packages\\sklearn\\feature_selection\\univariate_selection.py:113: UserWarning: Features [86] are constant.\n",
      "  UserWarning)\n",
      "C:\\tooling\\Anaconda3\\lib\\site-packages\\sklearn\\feature_selection\\univariate_selection.py:114: RuntimeWarning: invalid value encountered in true_divide\n",
      "  f = msb / msw\n",
      "C:\\tooling\\Anaconda3\\lib\\site-packages\\sklearn\\feature_selection\\univariate_selection.py:113: UserWarning: Features [86] are constant.\n",
      "  UserWarning)\n",
      "C:\\tooling\\Anaconda3\\lib\\site-packages\\sklearn\\feature_selection\\univariate_selection.py:114: RuntimeWarning: invalid value encountered in true_divide\n",
      "  f = msb / msw\n",
      "C:\\tooling\\Anaconda3\\lib\\site-packages\\sklearn\\feature_selection\\univariate_selection.py:113: UserWarning: Features [86] are constant.\n",
      "  UserWarning)\n",
      "C:\\tooling\\Anaconda3\\lib\\site-packages\\sklearn\\feature_selection\\univariate_selection.py:114: RuntimeWarning: invalid value encountered in true_divide\n",
      "  f = msb / msw\n",
      "C:\\tooling\\Anaconda3\\lib\\site-packages\\sklearn\\feature_selection\\univariate_selection.py:113: UserWarning: Features [86] are constant.\n",
      "  UserWarning)\n",
      "C:\\tooling\\Anaconda3\\lib\\site-packages\\sklearn\\feature_selection\\univariate_selection.py:114: RuntimeWarning: invalid value encountered in true_divide\n",
      "  f = msb / msw\n",
      "C:\\tooling\\Anaconda3\\lib\\site-packages\\sklearn\\feature_selection\\univariate_selection.py:113: UserWarning: Features [86] are constant.\n",
      "  UserWarning)\n",
      "C:\\tooling\\Anaconda3\\lib\\site-packages\\sklearn\\feature_selection\\univariate_selection.py:114: RuntimeWarning: invalid value encountered in true_divide\n",
      "  f = msb / msw\n",
      "C:\\tooling\\Anaconda3\\lib\\site-packages\\sklearn\\feature_selection\\univariate_selection.py:113: UserWarning: Features [86] are constant.\n",
      "  UserWarning)\n",
      "C:\\tooling\\Anaconda3\\lib\\site-packages\\sklearn\\feature_selection\\univariate_selection.py:114: RuntimeWarning: invalid value encountered in true_divide\n",
      "  f = msb / msw\n"
     ]
    },
    {
     "name": "stdout",
     "output_type": "stream",
     "text": [
      "Wall time: 19min 15s\n"
     ]
    },
    {
     "data": {
      "text/plain": [
       "GridSearchCV(cv=5, error_score='raise',\n",
       "       estimator=Pipeline(memory=None,\n",
       "     steps=[('imputer', Imputer(axis=0, copy=True, missing_values='NaN', strategy='median', verbose=0)), ('kbest', SelectKBest(k=10, score_func=<function f_classif at 0x000001D758DF30D0>)), ('lr', LogisticRegression(C=1.0, class_weight=None, dual=False, fit_intercept=True,\n",
       "          intercept_scaling=1, max_iter=100, multi_class='ovr', n_jobs=1,\n",
       "          penalty='l2', random_state=0, solver='liblinear', tol=0.0001,\n",
       "          verbose=0, warm_start=False))]),\n",
       "       fit_params=None, iid=True, n_jobs=1,\n",
       "       param_grid={'kbest__k': [5, 10, 20, 40, 60], 'lr__C': [0.01, 0.1, 1, 10, 100]},\n",
       "       pre_dispatch='2*n_jobs', refit=True, return_train_score='warn',\n",
       "       scoring='roc_auc', verbose=0)"
      ]
     },
     "execution_count": 15,
     "metadata": {},
     "output_type": "execute_result"
    }
   ],
   "source": [
    "%%time\n",
    "#fit models\n",
    "grid_l2.fit(X_train,y_train)"
   ]
  },
  {
   "cell_type": "code",
   "execution_count": 16,
   "metadata": {
    "scrolled": false
   },
   "outputs": [
    {
     "name": "stdout",
     "output_type": "stream",
     "text": [
      "Best estimator:\n",
      "Pipeline(memory=None,\n",
      "     steps=[('imputer', Imputer(axis=0, copy=True, missing_values='NaN', strategy='median', verbose=0)), ('kbest', SelectKBest(k=60, score_func=<function f_classif at 0x000001D758DF30D0>)), ('lr', LogisticRegression(C=10, class_weight=None, dual=False, fit_intercept=True,\n",
      "          intercept_scaling=1, max_iter=100, multi_class='ovr', n_jobs=1,\n",
      "          penalty='l2', random_state=0, solver='liblinear', tol=0.0001,\n",
      "          verbose=0, warm_start=False))])\n",
      "Logistic Regression step:\n",
      "LogisticRegression(C=10, class_weight=None, dual=False, fit_intercept=True,\n",
      "          intercept_scaling=1, max_iter=100, multi_class='ovr', n_jobs=1,\n",
      "          penalty='l2', random_state=0, solver='liblinear', tol=0.0001,\n",
      "          verbose=0, warm_start=False)\n",
      "Logistic Regression coefficients:\n",
      "[[ 8.48669711e-04 -1.32466987e-01  1.19507325e-01  1.69695960e-01\n",
      "  -1.00971379e-02  9.30824113e-02  5.72070777e-02  9.71376716e-02\n",
      "  -4.58782396e-03  4.17210402e-02  1.53928058e-01  1.21826118e-01\n",
      "   1.08384728e-01  1.80426797e-01 -1.99880085e-02 -5.09853438e-02\n",
      "  -1.21642673e-02  4.82039093e-02  3.03597460e-02  4.60698330e-02\n",
      "   5.18031480e-02 -9.51375456e-02  6.23712201e-02 -3.36755036e-02\n",
      "  -1.47993345e-01 -6.39781338e-02 -9.15826694e-02 -2.24037525e-01\n",
      "   5.00185114e-02  7.14070015e-02  3.27160733e-02 -6.95660974e-02\n",
      "  -3.41448126e-02 -7.09312795e-02 -9.03962599e-02  7.73641760e-02\n",
      "  -9.49993332e-02 -4.14485331e-02 -4.83589586e-02 -1.63601174e-02\n",
      "  -1.21164429e-02 -2.43558984e-02 -1.49284195e-02 -3.26519862e-02\n",
      "   1.21043462e-02  3.19636408e-02 -1.15237265e-02  1.10542448e-02\n",
      "  -3.89076009e-01  2.08749417e-02  1.53772854e-02  3.26624179e-01\n",
      "   4.49645684e-01  1.43409840e+00 -9.15976060e-02  4.79915734e-01\n",
      "   2.78634769e-02  4.99456638e-01 -9.15865753e-02  2.62242617e-01]]\n",
      "Best Parameters: {'kbest__k': 60, 'lr__C': 10}\n",
      "Best cross validation score: 0.81\n"
     ]
    }
   ],
   "source": [
    "print(\"Best estimator:\\n{}\".format(grid_l2.best_estimator_)) #prints best model and pipeline\n",
    "print(\"Logistic Regression step:\\n{}\".format(grid_l2.best_estimator_.named_steps[\"lr\"])) #prints logistic regression step of pipeline\n",
    "print(\"Logistic Regression coefficients:\\n{}\".format(grid_l2.best_estimator_.named_steps[\"lr\"].coef_)) #prints coefficients of best estimator\n",
    "print(\"Best Parameters: {}\".format(grid_l2.best_params_)) #outputs best parameters settings\n",
    "print(\"Best cross validation score: {:.2f}\".format(grid_l2.best_score_)) #best produced cross validation score"
   ]
  },
  {
   "cell_type": "code",
   "execution_count": 17,
   "metadata": {},
   "outputs": [
    {
     "name": "stdout",
     "output_type": "stream",
     "text": [
      "Grid scores on Development set: \n",
      "0.753 (+/-0.001) for {'kbest__k': 5, 'lr__C': 0.01}\n",
      "0.753 (+/-0.001) for {'kbest__k': 5, 'lr__C': 0.1}\n",
      "0.753 (+/-0.001) for {'kbest__k': 5, 'lr__C': 1}\n",
      "0.753 (+/-0.001) for {'kbest__k': 5, 'lr__C': 10}\n",
      "0.753 (+/-0.001) for {'kbest__k': 5, 'lr__C': 100}\n",
      "0.766 (+/-0.001) for {'kbest__k': 10, 'lr__C': 0.01}\n",
      "0.766 (+/-0.001) for {'kbest__k': 10, 'lr__C': 0.1}\n",
      "0.766 (+/-0.001) for {'kbest__k': 10, 'lr__C': 1}\n",
      "0.766 (+/-0.001) for {'kbest__k': 10, 'lr__C': 10}\n",
      "0.766 (+/-0.001) for {'kbest__k': 10, 'lr__C': 100}\n",
      "0.787 (+/-0.001) for {'kbest__k': 20, 'lr__C': 0.01}\n",
      "0.787 (+/-0.001) for {'kbest__k': 20, 'lr__C': 0.1}\n",
      "0.787 (+/-0.001) for {'kbest__k': 20, 'lr__C': 1}\n",
      "0.787 (+/-0.001) for {'kbest__k': 20, 'lr__C': 10}\n",
      "0.787 (+/-0.001) for {'kbest__k': 20, 'lr__C': 100}\n",
      "0.807 (+/-0.000) for {'kbest__k': 40, 'lr__C': 0.01}\n",
      "0.808 (+/-0.000) for {'kbest__k': 40, 'lr__C': 0.1}\n",
      "0.808 (+/-0.000) for {'kbest__k': 40, 'lr__C': 1}\n",
      "0.808 (+/-0.000) for {'kbest__k': 40, 'lr__C': 10}\n",
      "0.808 (+/-0.000) for {'kbest__k': 40, 'lr__C': 100}\n",
      "0.813 (+/-0.001) for {'kbest__k': 60, 'lr__C': 0.01}\n",
      "0.814 (+/-0.000) for {'kbest__k': 60, 'lr__C': 0.1}\n",
      "0.814 (+/-0.000) for {'kbest__k': 60, 'lr__C': 1}\n",
      "0.814 (+/-0.000) for {'kbest__k': 60, 'lr__C': 10}\n",
      "0.814 (+/-0.000) for {'kbest__k': 60, 'lr__C': 100}\n",
      "Grid scores on Development set: \n",
      "0.753 (+/-0.003) for {'kbest__k': 5, 'lr__C': 0.01}\n",
      "0.753 (+/-0.003) for {'kbest__k': 5, 'lr__C': 0.1}\n",
      "0.753 (+/-0.003) for {'kbest__k': 5, 'lr__C': 1}\n",
      "0.753 (+/-0.003) for {'kbest__k': 5, 'lr__C': 10}\n",
      "0.753 (+/-0.003) for {'kbest__k': 5, 'lr__C': 100}\n",
      "0.765 (+/-0.003) for {'kbest__k': 10, 'lr__C': 0.01}\n",
      "0.766 (+/-0.003) for {'kbest__k': 10, 'lr__C': 0.1}\n",
      "0.766 (+/-0.003) for {'kbest__k': 10, 'lr__C': 1}\n",
      "0.766 (+/-0.003) for {'kbest__k': 10, 'lr__C': 10}\n",
      "0.766 (+/-0.003) for {'kbest__k': 10, 'lr__C': 100}\n",
      "0.786 (+/-0.002) for {'kbest__k': 20, 'lr__C': 0.01}\n",
      "0.787 (+/-0.002) for {'kbest__k': 20, 'lr__C': 0.1}\n",
      "0.787 (+/-0.002) for {'kbest__k': 20, 'lr__C': 1}\n",
      "0.787 (+/-0.002) for {'kbest__k': 20, 'lr__C': 10}\n",
      "0.787 (+/-0.002) for {'kbest__k': 20, 'lr__C': 100}\n",
      "0.807 (+/-0.002) for {'kbest__k': 40, 'lr__C': 0.01}\n",
      "0.807 (+/-0.002) for {'kbest__k': 40, 'lr__C': 0.1}\n",
      "0.807 (+/-0.002) for {'kbest__k': 40, 'lr__C': 1}\n",
      "0.807 (+/-0.002) for {'kbest__k': 40, 'lr__C': 10}\n",
      "0.807 (+/-0.002) for {'kbest__k': 40, 'lr__C': 100}\n",
      "0.813 (+/-0.002) for {'kbest__k': 60, 'lr__C': 0.01}\n",
      "0.814 (+/-0.002) for {'kbest__k': 60, 'lr__C': 0.1}\n",
      "0.814 (+/-0.002) for {'kbest__k': 60, 'lr__C': 1}\n",
      "0.814 (+/-0.002) for {'kbest__k': 60, 'lr__C': 10}\n",
      "0.814 (+/-0.002) for {'kbest__k': 60, 'lr__C': 100}\n"
     ]
    },
    {
     "name": "stderr",
     "output_type": "stream",
     "text": [
      "C:\\tooling\\Anaconda3\\lib\\site-packages\\sklearn\\utils\\deprecation.py:122: FutureWarning: You are accessing a training score ('mean_train_score'), which will not be available by default any more in 0.21. If you need training scores, please set return_train_score=True\n",
      "  warnings.warn(*warn_args, **warn_kwargs)\n",
      "C:\\tooling\\Anaconda3\\lib\\site-packages\\sklearn\\utils\\deprecation.py:122: FutureWarning: You are accessing a training score ('std_train_score'), which will not be available by default any more in 0.21. If you need training scores, please set return_train_score=True\n",
      "  warnings.warn(*warn_args, **warn_kwargs)\n"
     ]
    }
   ],
   "source": [
    "#AUC scores for each training set run\n",
    "print(\"Grid scores on Development set: \")\n",
    "means = grid.cv_results_['mean_train_score']\n",
    "stds = grid.cv_results_['std_train_score']\n",
    "\n",
    "for mean, std, params in zip(means, stds, grid.cv_results_['params']): #note imbedded grid_l2 will need to be adjusted to correct object\n",
    "    print(\"%0.3f (+/-%0.3f) for %r\"\n",
    "         % (mean, std *2, params))\n",
    "\n",
    "#AUC scores for each validation set run\n",
    "print(\"Grid scores on Development set: \")\n",
    "means = grid_l2.cv_results_['mean_test_score']\n",
    "stds = grid_l2.cv_results_['std_test_score']\n",
    "\n",
    "for mean, std, params in zip(means, stds, grid_l2.cv_results_['params']): #note imbedded grid_l2 will need to be adjusted to correct object\n",
    "    print(\"%0.3f (+/-%0.3f) for %r\"\n",
    "         % (mean, std *2, params))"
   ]
  },
  {
   "cell_type": "markdown",
   "metadata": {},
   "source": [
    "<Br>**Logistic Regression with L2 penalty and median missing data imputation**<br><br>\n",
    "- Best model selected used parameters K = 100 (100 variables included), and C = 10 for LogReg model. <br>\n",
    "- AUC scores ranged from 0.807 (40 variables, C = 0.01-100) to 0.817 \n",
    "- Interestingly, these outputs produced the same AUC across all cross validation trials as L1 model.\n",
    "    -Only difference was C = 1 for L1. \n",
    "    - Could be due to same random_state parameter?<br>\n",
    "    <br>\n",
    "    \n",
    "    Also interesting to note that adding 60 additional variables only improves AUC by ~1%. 100 variables is likely overfitting...\n",
    "    <br><Br>\n",
    "    Not sure why the training and test validation scores are exactly the same...\n"
   ]
  },
  {
   "cell_type": "markdown",
   "metadata": {},
   "source": [
    "#### kNearest Neighbors\n"
   ]
  },
  {
   "cell_type": "code",
   "execution_count": 18,
   "metadata": {},
   "outputs": [
    {
     "name": "stdout",
     "output_type": "stream",
     "text": [
      "Wall time: 49min 13s\n"
     ]
    }
   ],
   "source": [
    "%%time\n",
    "# creating odd list of K for KNN\n",
    "neighbors = [1,3,5,7]\n",
    "\n",
    "# empty list that will hold cv scores\n",
    "cv_scores = []\n",
    "\n",
    "# perform 5-fold cross validation\n",
    "for k in neighbors:\n",
    "    knn = KNeighborsClassifier(n_neighbors=k)\n",
    "    scores = cross_val_score(knn, imputed_X_train, y_train, cv=5, scoring='roc_auc') #using median imputed dataset for training\n",
    "    cv_scores.append(scores.mean())"
   ]
  },
  {
   "cell_type": "code",
   "execution_count": 24,
   "metadata": {},
   "outputs": [
    {
     "name": "stdout",
     "output_type": "stream",
     "text": [
      "The optimal number of neighbors is 7\n"
     ]
    },
    {
     "data": {
      "image/png": "[encoded data removed]",
      "text/plain": [
       "<matplotlib.figure.Figure at 0x1d71ab4b9e8>"
      ]
     },
     "metadata": {},
     "output_type": "display_data"
    },
    {
     "name": "stdout",
     "output_type": "stream",
     "text": [
      "[0.80191911 0.80626449 0.80662309 0.80448436 0.80376759]\n"
     ]
    }
   ],
   "source": [
    "# changing to misclassification error\n",
    "MSE = [1 - x for x in cv_scores]\n",
    "\n",
    "# determining best k\n",
    "optimal_k = neighbors[MSE.index(min(MSE))]\n",
    "print(\"The optimal number of neighbors is %d\" % optimal_k)\n",
    "\n",
    "# plot misclassification error vs k\n",
    "plt.plot(neighbors, MSE)\n",
    "plt.xlabel('Number of Neighbors K')\n",
    "plt.ylabel('Misclassification Error')\n",
    "plt.show()\n",
    "print(scores)"
   ]
  },
  {
   "cell_type": "markdown",
   "metadata": {},
   "source": [
    "#### Decision Tree\n"
   ]
  },
  {
   "cell_type": "code",
   "execution_count": 20,
   "metadata": {},
   "outputs": [],
   "source": [
    "#decision tree model\n",
    "tree = DecisionTreeClassifier(random_state = 0) #maximum depth of 5 leaves\n",
    "kbest = SelectKBest(f_classif) #select best 'k' features\n",
    "impute = Imputer(missing_values = 'NaN', strategy = 'median', axis = 0) #impute missing values: replacing NaNs with Median Column value for each column\n",
    "\n",
    "#Pipeline for Logistic Regression with L2 'Ridge' Regularization\n",
    "pipe_tree = Pipeline([('imputer', impute),\n",
    "                       ('kbest', kbest),\n",
    "                      ('dec_tree', tree)])\n",
    "#parameters for grid search cross validation \n",
    "parameters = {'kbest__k': [5, 10, 20, 40, 60], #building models with 40, 60, 80, and 100 most significant variables\n",
    "                 'dec_tree__max_depth' : [2,3,4,5]} #tuning tree depth for performance vs understanding\n",
    "\n",
    "#grid search\n",
    "grid_tree = GridSearchCV(pipe_tree, parameters, cv = 5, scoring = 'roc_auc') #run grid on parameters, 5-fold cross validation, AUC is evaluation metric"
   ]
  },
  {
   "cell_type": "code",
   "execution_count": 21,
   "metadata": {},
   "outputs": [
    {
     "name": "stderr",
     "output_type": "stream",
     "text": [
      "C:\\tooling\\Anaconda3\\lib\\site-packages\\sklearn\\feature_selection\\univariate_selection.py:113: UserWarning: Features [86] are constant.\n",
      "  UserWarning)\n",
      "C:\\tooling\\Anaconda3\\lib\\site-packages\\sklearn\\feature_selection\\univariate_selection.py:114: RuntimeWarning: invalid value encountered in true_divide\n",
      "  f = msb / msw\n",
      "C:\\tooling\\Anaconda3\\lib\\site-packages\\sklearn\\feature_selection\\univariate_selection.py:113: UserWarning: Features [86] are constant.\n",
      "  UserWarning)\n",
      "C:\\tooling\\Anaconda3\\lib\\site-packages\\sklearn\\feature_selection\\univariate_selection.py:114: RuntimeWarning: invalid value encountered in true_divide\n",
      "  f = msb / msw\n",
      "C:\\tooling\\Anaconda3\\lib\\site-packages\\sklearn\\feature_selection\\univariate_selection.py:113: UserWarning: Features [86] are constant.\n",
      "  UserWarning)\n",
      "C:\\tooling\\Anaconda3\\lib\\site-packages\\sklearn\\feature_selection\\univariate_selection.py:114: RuntimeWarning: invalid value encountered in true_divide\n",
      "  f = msb / msw\n",
      "C:\\tooling\\Anaconda3\\lib\\site-packages\\sklearn\\feature_selection\\univariate_selection.py:113: UserWarning: Features [86] are constant.\n",
      "  UserWarning)\n",
      "C:\\tooling\\Anaconda3\\lib\\site-packages\\sklearn\\feature_selection\\univariate_selection.py:114: RuntimeWarning: invalid value encountered in true_divide\n",
      "  f = msb / msw\n",
      "C:\\tooling\\Anaconda3\\lib\\site-packages\\sklearn\\feature_selection\\univariate_selection.py:113: UserWarning: Features [86] are constant.\n",
      "  UserWarning)\n",
      "C:\\tooling\\Anaconda3\\lib\\site-packages\\sklearn\\feature_selection\\univariate_selection.py:114: RuntimeWarning: invalid value encountered in true_divide\n",
      "  f = msb / msw\n",
      "C:\\tooling\\Anaconda3\\lib\\site-packages\\sklearn\\feature_selection\\univariate_selection.py:113: UserWarning: Features [86] are constant.\n",
      "  UserWarning)\n",
      "C:\\tooling\\Anaconda3\\lib\\site-packages\\sklearn\\feature_selection\\univariate_selection.py:114: RuntimeWarning: invalid value encountered in true_divide\n",
      "  f = msb / msw\n",
      "C:\\tooling\\Anaconda3\\lib\\site-packages\\sklearn\\feature_selection\\univariate_selection.py:113: UserWarning: Features [86] are constant.\n",
      "  UserWarning)\n",
      "C:\\tooling\\Anaconda3\\lib\\site-packages\\sklearn\\feature_selection\\univariate_selection.py:114: RuntimeWarning: invalid value encountered in true_divide\n",
      "  f = msb / msw\n",
      "C:\\tooling\\Anaconda3\\lib\\site-packages\\sklearn\\feature_selection\\univariate_selection.py:113: UserWarning: Features [86] are constant.\n",
      "  UserWarning)\n",
      "C:\\tooling\\Anaconda3\\lib\\site-packages\\sklearn\\feature_selection\\univariate_selection.py:114: RuntimeWarning: invalid value encountered in true_divide\n",
      "  f = msb / msw\n",
      "C:\\tooling\\Anaconda3\\lib\\site-packages\\sklearn\\feature_selection\\univariate_selection.py:113: UserWarning: Features [86] are constant.\n",
      "  UserWarning)\n",
      "C:\\tooling\\Anaconda3\\lib\\site-packages\\sklearn\\feature_selection\\univariate_selection.py:114: RuntimeWarning: invalid value encountered in true_divide\n",
      "  f = msb / msw\n",
      "C:\\tooling\\Anaconda3\\lib\\site-packages\\sklearn\\feature_selection\\univariate_selection.py:113: UserWarning: Features [86] are constant.\n",
      "  UserWarning)\n",
      "C:\\tooling\\Anaconda3\\lib\\site-packages\\sklearn\\feature_selection\\univariate_selection.py:114: RuntimeWarning: invalid value encountered in true_divide\n",
      "  f = msb / msw\n",
      "C:\\tooling\\Anaconda3\\lib\\site-packages\\sklearn\\feature_selection\\univariate_selection.py:113: UserWarning: Features [86] are constant.\n",
      "  UserWarning)\n",
      "C:\\tooling\\Anaconda3\\lib\\site-packages\\sklearn\\feature_selection\\univariate_selection.py:114: RuntimeWarning: invalid value encountered in true_divide\n",
      "  f = msb / msw\n",
      "C:\\tooling\\Anaconda3\\lib\\site-packages\\sklearn\\feature_selection\\univariate_selection.py:113: UserWarning: Features [86] are constant.\n",
      "  UserWarning)\n",
      "C:\\tooling\\Anaconda3\\lib\\site-packages\\sklearn\\feature_selection\\univariate_selection.py:114: RuntimeWarning: invalid value encountered in true_divide\n",
      "  f = msb / msw\n",
      "C:\\tooling\\Anaconda3\\lib\\site-packages\\sklearn\\feature_selection\\univariate_selection.py:113: UserWarning: Features [86] are constant.\n",
      "  UserWarning)\n",
      "C:\\tooling\\Anaconda3\\lib\\site-packages\\sklearn\\feature_selection\\univariate_selection.py:114: RuntimeWarning: invalid value encountered in true_divide\n",
      "  f = msb / msw\n",
      "C:\\tooling\\Anaconda3\\lib\\site-packages\\sklearn\\feature_selection\\univariate_selection.py:113: UserWarning: Features [86] are constant.\n",
      "  UserWarning)\n",
      "C:\\tooling\\Anaconda3\\lib\\site-packages\\sklearn\\feature_selection\\univariate_selection.py:114: RuntimeWarning: invalid value encountered in true_divide\n",
      "  f = msb / msw\n",
      "C:\\tooling\\Anaconda3\\lib\\site-packages\\sklearn\\feature_selection\\univariate_selection.py:113: UserWarning: Features [86] are constant.\n",
      "  UserWarning)\n",
      "C:\\tooling\\Anaconda3\\lib\\site-packages\\sklearn\\feature_selection\\univariate_selection.py:114: RuntimeWarning: invalid value encountered in true_divide\n",
      "  f = msb / msw\n",
      "C:\\tooling\\Anaconda3\\lib\\site-packages\\sklearn\\feature_selection\\univariate_selection.py:113: UserWarning: Features [86] are constant.\n",
      "  UserWarning)\n",
      "C:\\tooling\\Anaconda3\\lib\\site-packages\\sklearn\\feature_selection\\univariate_selection.py:114: RuntimeWarning: invalid value encountered in true_divide\n",
      "  f = msb / msw\n",
      "C:\\tooling\\Anaconda3\\lib\\site-packages\\sklearn\\feature_selection\\univariate_selection.py:113: UserWarning: Features [86] are constant.\n",
      "  UserWarning)\n",
      "C:\\tooling\\Anaconda3\\lib\\site-packages\\sklearn\\feature_selection\\univariate_selection.py:114: RuntimeWarning: invalid value encountered in true_divide\n",
      "  f = msb / msw\n",
      "C:\\tooling\\Anaconda3\\lib\\site-packages\\sklearn\\feature_selection\\univariate_selection.py:113: UserWarning: Features [86] are constant.\n",
      "  UserWarning)\n",
      "C:\\tooling\\Anaconda3\\lib\\site-packages\\sklearn\\feature_selection\\univariate_selection.py:114: RuntimeWarning: invalid value encountered in true_divide\n",
      "  f = msb / msw\n",
      "C:\\tooling\\Anaconda3\\lib\\site-packages\\sklearn\\feature_selection\\univariate_selection.py:113: UserWarning: Features [86] are constant.\n",
      "  UserWarning)\n",
      "C:\\tooling\\Anaconda3\\lib\\site-packages\\sklearn\\feature_selection\\univariate_selection.py:114: RuntimeWarning: invalid value encountered in true_divide\n",
      "  f = msb / msw\n",
      "C:\\tooling\\Anaconda3\\lib\\site-packages\\sklearn\\feature_selection\\univariate_selection.py:113: UserWarning: Features [86] are constant.\n",
      "  UserWarning)\n",
      "C:\\tooling\\Anaconda3\\lib\\site-packages\\sklearn\\feature_selection\\univariate_selection.py:114: RuntimeWarning: invalid value encountered in true_divide\n",
      "  f = msb / msw\n"
     ]
    },
    {
     "name": "stdout",
     "output_type": "stream",
     "text": [
      "Wall time: 7min\n"
     ]
    },
    {
     "data": {
      "text/plain": [
       "GridSearchCV(cv=5, error_score='raise',\n",
       "       estimator=Pipeline(memory=None,\n",
       "     steps=[('imputer', Imputer(axis=0, copy=True, missing_values='NaN', strategy='median', verbose=0)), ('kbest', SelectKBest(k=10, score_func=<function f_classif at 0x000001D758DF30D0>)), ('dec_tree', DecisionTreeClassifier(class_weight=None, criterion='gini', max_depth=None,\n",
       "            max_features=N...         min_weight_fraction_leaf=0.0, presort=False, random_state=0,\n",
       "            splitter='best'))]),\n",
       "       fit_params=None, iid=True, n_jobs=1,\n",
       "       param_grid={'kbest__k': [5, 10, 20, 40, 60], 'dec_tree__max_depth': [2, 3, 4, 5]},\n",
       "       pre_dispatch='2*n_jobs', refit=True, return_train_score='warn',\n",
       "       scoring='roc_auc', verbose=0)"
      ]
     },
     "execution_count": 21,
     "metadata": {},
     "output_type": "execute_result"
    }
   ],
   "source": [
    "%%time\n",
    "#fit models\n",
    "grid_tree.fit(X_train,y_train)\n"
   ]
  },
  {
   "cell_type": "code",
   "execution_count": 23,
   "metadata": {},
   "outputs": [
    {
     "name": "stdout",
     "output_type": "stream",
     "text": [
      "Best estimator:\n",
      "Pipeline(memory=None,\n",
      "     steps=[('imputer', Imputer(axis=0, copy=True, missing_values='NaN', strategy='median', verbose=0)), ('kbest', SelectKBest(k=60, score_func=<function f_classif at 0x000001D758DF30D0>)), ('dec_tree', DecisionTreeClassifier(class_weight=None, criterion='gini', max_depth=5,\n",
      "            max_features=None...         min_weight_fraction_leaf=0.0, presort=False, random_state=0,\n",
      "            splitter='best'))])\n",
      "Decision Tree step:\n",
      "DecisionTreeClassifier(class_weight=None, criterion='gini', max_depth=5,\n",
      "            max_features=None, max_leaf_nodes=None,\n",
      "            min_impurity_decrease=0.0, min_impurity_split=None,\n",
      "            min_samples_leaf=1, min_samples_split=2,\n",
      "            min_weight_fraction_leaf=0.0, presort=False, random_state=0,\n",
      "            splitter='best')\n",
      "Best Parameters: {'dec_tree__max_depth': 5, 'kbest__k': 60}\n",
      "Best cross validation score: 0.80\n"
     ]
    }
   ],
   "source": [
    "print(\"Best estimator:\\n{}\".format(grid_tree.best_estimator_)) #prints best model and pipeline\n",
    "print(\"Decision Tree step:\\n{}\".format(grid_tree.best_estimator_.named_steps[\"dec_tree\"])) #prints logistic regression step of pipeline\n",
    "#print(\"Logistic Regression coefficients:\\n{}\".format(grid_tree.best_estimator_.named_steps[\"dec_tree\"].coef_)) #prints coefficients of best estimator\n",
    "print(\"Best Parameters: {}\".format(grid_tree.best_params_)) #outputs best parameters settings\n",
    "print(\"Best cross validation score: {:.2f}\".format(grid_tree.best_score_)) #best produced cross validation score"
   ]
  },
  {
   "cell_type": "code",
   "execution_count": null,
   "metadata": {},
   "outputs": [],
   "source": []
  }
 ],
 "metadata": {
  "kernelspec": {
   "display_name": "Python 3",
   "language": "python",
   "name": "python3"
  },
  "language_info": {
   "codemirror_mode": {
    "name": "ipython",
    "version": 3
   },
   "file_extension": ".py",
   "mimetype": "text/x-python",
   "name": "python",
   "nbconvert_exporter": "python",
   "pygments_lexer": "ipython3",
   "version": "3.6.4"
  }
 },
 "nbformat": 4,
 "nbformat_minor": 2
}
