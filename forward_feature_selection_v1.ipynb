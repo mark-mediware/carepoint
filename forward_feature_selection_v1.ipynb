{
 "cells": [
  {
   "cell_type": "markdown",
   "metadata": {},
   "source": [
    "# Feature Selection using RFE and ANOVA\n",
    "Previous automated feature selection using SKLearn's gridsearchCV was useful, but lacked some ability for interpretation and transparency. A traditional feature selection process is worth trying, as this will help reduce the number of variables needed for modeling and improve the interpretability of the final model.<br><br>\n",
    "I plan on using recursive feature elimnition, which is an approximation of forward stepwise feature selection. Using Statmodels(), I plan on running an ANOVA on each feature against the outcome measure `death_within_7_days` to test for signficance. Each resulting F-test value will be modeled and added to an existing model containing other variables. This process starts with the most significant variable, adds the next significant variable, and continues on until limited improvements of explained variance are seen. This process is called *forward feature selection*.\n"
   ]
  },
  {
   "cell_type": "code",
   "execution_count": 21,
   "metadata": {},
   "outputs": [
    {
     "name": "stderr",
     "output_type": "stream",
     "text": [
      "C:\\tooling\\Anaconda3\\lib\\site-packages\\statsmodels\\compat\\pandas.py:56: FutureWarning: The pandas.core.datetools module is deprecated and will be removed in a future version. Please use the pandas.tseries module instead.\n",
      "  from pandas.core import datetools\n"
     ]
    }
   ],
   "source": [
    "#load libraries\n",
    "import pandas as pd\n",
    "import numpy as np\n",
    "import statsmodels.api as sm\n",
    "%matplotlib inline\n",
    "import matplotlib.pyplot as plt\n",
    "from sklearn.feature_selection import RFE\n",
    "from sklearn.linear_model import LogisticRegression\n",
    "from sklearn.cross_validation import train_test_split\n",
    "\n",
    "from IPython.display import display #displays full dataframe columns\n",
    "#display all dataframe columns when printed\n",
    "pd.options.display.max_columns = None"
   ]
  },
  {
   "cell_type": "code",
   "execution_count": 8,
   "metadata": {},
   "outputs": [
    {
     "data": {
      "text/plain": [
       "(271541, 120)"
      ]
     },
     "execution_count": 8,
     "metadata": {},
     "output_type": "execute_result"
    }
   ],
   "source": [
    "#load data\n",
    "df = pd.read_csv('C:/Users/Mark.Burghart/Documents/projects/hospice_carepoint/data/transformed/carepoint_transformed_dummied.csv', index_col=0)\n",
    "df.shape"
   ]
  },
  {
   "cell_type": "code",
   "execution_count": 9,
   "metadata": {},
   "outputs": [],
   "source": [
    "#separate variables (X) from outcome of interest (y)\n",
    "df.shape\n",
    "cols = df.columns.get_values() #converts column names to list\n",
    "cols = cols.tolist()\n",
    "feature_cols = [x for x in cols if x != 'death_within_7_days'] #removes outcome of interest from list ('death_within_7_days')\n",
    "\n",
    "#extract rows\n",
    "#print(feature_cols) #debug\n",
    "X = df.loc[:, feature_cols]\n",
    "X.shape #outcome column has been removed\n",
    "\n",
    "#save outcome variable as y\n",
    "y = df.death_within_7_days\n",
    "y.shape\n",
    "\n",
    "#separate data into training/test (aka holdout) sets\n",
    "X_train, X_test, y_train, y_test = train_test_split(X, y, test_size = 0.30, random_state = 23) #random_state for reproducibility (if needed)\n",
    "#X_test, y_test should not be used until NO MORE decisions are being made. \n",
    "#This is the final, FINAL validation, and more often just used for model performance and generalizability!"
   ]
  },
  {
   "cell_type": "code",
   "execution_count": 11,
   "metadata": {},
   "outputs": [],
   "source": [
    "#impute missing values: replacing NaNs with Median Column value for each column\n",
    "X_train = X_train.fillna(X_train.median()) \n",
    "y_train = y_train.fillna(y_train.median()) "
   ]
  },
  {
   "cell_type": "markdown",
   "metadata": {},
   "source": [
    "## Recursive Feature Elimination"
   ]
  },
  {
   "cell_type": "code",
   "execution_count": 12,
   "metadata": {},
   "outputs": [
    {
     "name": "stdout",
     "output_type": "stream",
     "text": [
      "[False False False False  True False False False False False False False\n",
      " False False False False  True  True False False False False False False\n",
      " False False False False False False False False False False  True  True\n",
      " False False False False False False False False False False False False\n",
      " False False False False False False False False False False False False\n",
      " False False False False False False  True  True  True  True  True  True\n",
      "  True  True False  True  True  True  True False  True  True False  True\n",
      " False False False  True False  True False False False  True False False\n",
      "  True  True  True  True  True  True  True  True  True False False False\n",
      "  True  True  True False  True  True  True  True  True False False]\n",
      "[ 9 69 14 12  1 41 71 25 43 20 78  7 27 32 24 22  1  1 70 30 61 52 17 56\n",
      " 53 45 38 19 31  6 26 40 35 23  1  1 49 29 60 51 16 55 54 44 37 18 28 74\n",
      " 50 46 36 57 72 68 76 64 80 73 58 63 59 62 79 47 21 48  1  1  1  1  1  1\n",
      "  1  1 67  1  1  1  1 15  1  1 39  1 77  3 75  1 11  1 66 42 13  1  8 65\n",
      "  1  1  1  1  1  1  1  1  1  2  5 34  1  1  1  4  1  1  1  1  1 33 10]\n"
     ]
    }
   ],
   "source": [
    "logreg = LogisticRegression()\n",
    "rfe = RFE(logreg, 40) #selecting top 40 variables for statistical testing\n",
    "rfe = rfe.fit(X_train, y_train)\n",
    "print(rfe.support_)\n",
    "print(rfe.ranking_)"
   ]
  },
  {
   "cell_type": "code",
   "execution_count": 17,
   "metadata": {},
   "outputs": [
    {
     "name": "stdout",
     "output_type": "stream",
     "text": [
      "Features sorted by their rank:\n",
      "[(1, '3_visit_max_pain'), (1, '3_visit_max_shortnessofbreath'), (1, '3_visit_mean_pain'), (1, '3_visit_mean_shortnessofbreath'), (1, 'AdvanceDirective_Yes - Full Code / Advanced Cardiac Life Support (ACLS)'), (1, 'InsuranceType_Medicaid Traditional'), (1, 'InsuranceType_Medicare (HMO/Per Visit)'), (1, 'InsuranceType_Other Government'), (1, 'InsuranceType_Private Pay'), (1, 'InsuranceType_Self-Pay'), (1, 'InsuranceType_TRICARE'), (1, 'InsuranceType_Title Progams (e.g. Title III, V, or XX)'), (1, 'InsuranceType_Unknown'), (1, 'InsuranceType_Veteran Administration Plan'), (1, 'Lack_of_Appetite'), (1, 'LevelofCare_Continuous (CHC)'), (1, 'LevelofCare_Inpatient (GIP)'), (1, 'LevelofCare_Respite'), (1, 'LevelofCare_Routine'), (1, 'Race_Asian'), (1, 'Race_Black or African American'), (1, 'Race_Native Hawaiian or Pacific Islander'), (1, \"ReferralType_Clinic or physician's office\"), (1, 'ReferralType_Court/Law Enforcement'), (1, 'ReferralType_Information not available'), (1, 'ReferralType_Non-health care facility'), (1, 'ReferralType_Transfer from Home Health Agency'), (1, 'ReferralType_Transfer from Hospice'), (1, 'ReferralType_Transfer from SNF or ICF'), (1, 'icd10_cluster_Certain conditions originating in the perinatal period'), (1, 'icd10_cluster_Certain infectious and parasitic diseases'), (1, 'icd10_cluster_Congenital malformations, deformations and chromosomal abnormalities'), (1, 'icd10_cluster_Diseases of the genitourinary system'), (1, 'icd10_cluster_Diseases of the musculoskeletal system and connective tissue'), (1, 'icd10_cluster_Diseases of the nervous system'), (1, 'icd10_cluster_Diseases of the skin and subcutaneous tissue'), (1, 'icd10_cluster_Endocrine, nutritional, and metabolic diseases'), (1, 'icd10_cluster_Factors influencing health status and contact with health services'), (1, 'icd10_cluster_Injury, poisonining, and certain other consequences of external causes'), (1, 'icd10_cluster_Mental and behavioural disorders'), (2, 'icd10_cluster_Diseases of the blood and blood-forming organs and certain disorders involving the immune mechanism'), (3, 'InsuranceType_Medicaid (HMO/Managed Care)'), (4, 'icd10_cluster_Diseases of the respiratory system'), (5, 'icd10_cluster_Diseases of the circulatory system'), (6, '3_visit_mean_anxiety'), (7, '3_visit_max_anxiety'), (8, 'InsuranceType_Private HMO/Managed Care'), (9, 'gender'), (10, 'icd10_cluster_Symptoms, signs and abnormal clinical and laboratory findings, not elsewhere classified'), (11, 'InsuranceType_Medicare (Advantage/PFFS)'), (12, 'Drowsiness'), (13, 'InsuranceType_Other'), (14, 'Depression'), (15, 'Race_American Indian or Alaskan Native'), (16, '5_visit_mean_drowsiness'), (17, '5_visit_max_drowsiness'), (18, '5_visit_mean_tiredness'), (19, '5_visit_max_tiredness'), (20, 'Wellbeing'), (21, 'AdvanceDirective_Living Will'), (22, '3_visit_max_nausea'), (23, '3_visit_mean_nausea'), (24, '3_visit_max_lackofappetite'), (25, 'Shortness_of_Breath'), (26, '3_visit_mean_depression'), (27, '3_visit_max_depression'), (28, '5_visit_mean_wellbeing'), (29, '3_visit_mean_wellbeing'), (30, '3_visit_max_wellbeing'), (31, '5_visit_max_wellbeing'), (32, '3_visit_max_drowsiness'), (33, 'icd10_cluster_Neoplasms'), (34, 'icd10_cluster_Diseases of the digestive system'), (35, '3_visit_mean_lackofappetite'), (36, 'LackofAppetite_change'), (37, '5_visit_mean_shortnessofbreath'), (38, '5_visit_max_shortnessofbreath'), (39, 'Race_Hispanic or Latino'), (40, '3_visit_mean_drowsiness'), (41, 'Nausea'), (42, 'InsuranceType_None- No Charge for Current Service'), (43, 'Tiredness'), (44, '5_visit_mean_pain'), (45, '5_visit_max_pain'), (46, 'Drowsiness_change'), (47, 'AdvanceDirective_ No'), (48, 'AdvanceDirective_Yes - Do Not Resuscitate (DNR)'), (49, '3_visit_mean_tiredness'), (50, 'Depression_change'), (51, '5_visit_mean_depression'), (52, '5_visit_max_depression'), (53, '5_visit_max_nausea'), (54, '5_visit_mean_nausea'), (55, '5_visit_mean_lackofappetite'), (56, '5_visit_max_lackofappetite'), (57, 'Nausea_change'), (58, '3_visit_max_esas'), (59, '3_visit_mean_esas'), (60, '5_visit_mean_anxiety'), (61, '5_visit_max_anxiety'), (62, '5_visit_mean_esas'), (63, '5_visit_max_esas'), (64, 'Wellbeing_change'), (65, 'InsuranceType_Private Insurance'), (66, 'InsuranceType_Medicare Traditional'), (67, 'ReferralType_Transfer from hospital'), (68, 'ShortnessofBreath_change'), (69, 'Anxiety'), (70, '3_visit_max_tiredness'), (71, 'Pain'), (72, 'Pain_change'), (73, 'ESAS_visit_total'), (74, 'Anxiety_change'), (75, 'InsuranceType_Medicaid Room and Board'), (76, 'Tiredness_change'), (77, 'Race_White'), (78, 'LengthOfCare_days'), (79, 'ESAS_change'), (80, 'Age')]\n"
     ]
    }
   ],
   "source": [
    "#manually flag sig variables\n",
    "names = X_train.columns.values\n",
    "print(\"Features sorted by their rank:\")\n",
    "print(sorted(zip(map(lambda x: round(x, 4), rfe.ranking_), names)))"
   ]
  },
  {
   "cell_type": "code",
   "execution_count": 18,
   "metadata": {},
   "outputs": [],
   "source": [
    "cols = ['3_visit_max_pain','3_visit_max_shortnessofbreath','3_visit_mean_pain', '3_visit_mean_shortnessofbreath', \n",
    " 'AdvanceDirective_Yes - Full Code / Advanced Cardiac Life Support (ACLS)', 'InsuranceType_Medicaid Traditional', \n",
    " 'InsuranceType_Medicare (HMO/Per Visit)', 'InsuranceType_Other Government', 'InsuranceType_Private Pay', \n",
    " 'InsuranceType_Self-Pay', 'InsuranceType_TRICARE', 'InsuranceType_Title Progams (e.g. Title III, V, or XX)', \n",
    " 'InsuranceType_Unknown', 'InsuranceType_Veteran Administration Plan', 'Lack_of_Appetite', 'LevelofCare_Continuous (CHC)',\n",
    "'LevelofCare_Inpatient (GIP)', 'LevelofCare_Respite', 'LevelofCare_Routine', \n",
    " 'Race_Asian', 'Race_Black or African American', 'Race_Native Hawaiian or Pacific Islander', \n",
    " \"ReferralType_Clinic or physician's office\", 'ReferralType_Court/Law Enforcement', 'ReferralType_Information not available',\n",
    " 'ReferralType_Non-health care facility', 'ReferralType_Transfer from Home Health Agency', \n",
    " 'ReferralType_Transfer from Hospice', 'ReferralType_Transfer from SNF or ICF', \n",
    " 'icd10_cluster_Certain conditions originating in the perinatal period', 'icd10_cluster_Certain infectious and parasitic diseases',\n",
    " 'icd10_cluster_Congenital malformations, deformations and chromosomal abnormalities', 'icd10_cluster_Diseases of the genitourinary system', \n",
    " 'icd10_cluster_Diseases of the musculoskeletal system and connective tissue', 'icd10_cluster_Diseases of the nervous system',\n",
    "'icd10_cluster_Diseases of the skin and subcutaneous tissue', \n",
    "'icd10_cluster_Endocrine, nutritional, and metabolic diseases', \n",
    " 'icd10_cluster_Factors influencing health status and contact with health services', \n",
    " 'icd10_cluster_Injury, poisonining, and certain other consequences of external causes', 'icd10_cluster_Mental and behavioural disorders']"
   ]
  },
  {
   "cell_type": "code",
   "execution_count": 19,
   "metadata": {},
   "outputs": [
    {
     "name": "stdout",
     "output_type": "stream",
     "text": [
      "<class 'pandas.core.frame.DataFrame'>\n",
      "Int64Index: 190078 entries, 15610 to 127718\n",
      "Data columns (total 40 columns):\n",
      "3_visit_max_pain                                                                        190078 non-null float64\n",
      "3_visit_max_shortnessofbreath                                                           190078 non-null float64\n",
      "3_visit_mean_pain                                                                       190078 non-null float64\n",
      "3_visit_mean_shortnessofbreath                                                          190078 non-null float64\n",
      "AdvanceDirective_Yes - Full Code / Advanced Cardiac Life Support (ACLS)                 190078 non-null int64\n",
      "InsuranceType_Medicaid Traditional                                                      190078 non-null int64\n",
      "InsuranceType_Medicare (HMO/Per Visit)                                                  190078 non-null int64\n",
      "InsuranceType_Other Government                                                          190078 non-null int64\n",
      "InsuranceType_Private Pay                                                               190078 non-null int64\n",
      "InsuranceType_Self-Pay                                                                  190078 non-null int64\n",
      "InsuranceType_TRICARE                                                                   190078 non-null int64\n",
      "InsuranceType_Title Progams (e.g. Title III, V, or XX)                                  190078 non-null int64\n",
      "InsuranceType_Unknown                                                                   190078 non-null int64\n",
      "InsuranceType_Veteran Administration Plan                                               190078 non-null int64\n",
      "Lack_of_Appetite                                                                        190078 non-null float64\n",
      "LevelofCare_Continuous (CHC)                                                            190078 non-null int64\n",
      "LevelofCare_Inpatient (GIP)                                                             190078 non-null int64\n",
      "LevelofCare_Respite                                                                     190078 non-null int64\n",
      "LevelofCare_Routine                                                                     190078 non-null int64\n",
      "Race_Asian                                                                              190078 non-null int64\n",
      "Race_Black or African American                                                          190078 non-null int64\n",
      "Race_Native Hawaiian or Pacific Islander                                                190078 non-null int64\n",
      "ReferralType_Clinic or physician's office                                               190078 non-null int64\n",
      "ReferralType_Court/Law Enforcement                                                      190078 non-null int64\n",
      "ReferralType_Information not available                                                  190078 non-null int64\n",
      "ReferralType_Non-health care facility                                                   190078 non-null int64\n",
      "ReferralType_Transfer from Home Health Agency                                           190078 non-null int64\n",
      "ReferralType_Transfer from Hospice                                                      190078 non-null int64\n",
      "ReferralType_Transfer from SNF or ICF                                                   190078 non-null int64\n",
      "icd10_cluster_Certain conditions originating in the perinatal period                    190078 non-null int64\n",
      "icd10_cluster_Certain infectious and parasitic diseases                                 190078 non-null int64\n",
      "icd10_cluster_Congenital malformations, deformations and chromosomal abnormalities      190078 non-null int64\n",
      "icd10_cluster_Diseases of the genitourinary system                                      190078 non-null int64\n",
      "icd10_cluster_Diseases of the musculoskeletal system and connective tissue              190078 non-null int64\n",
      "icd10_cluster_Diseases of the nervous system                                            190078 non-null int64\n",
      "icd10_cluster_Diseases of the skin and subcutaneous tissue                              190078 non-null int64\n",
      "icd10_cluster_Endocrine, nutritional, and metabolic diseases                            190078 non-null int64\n",
      "icd10_cluster_Factors influencing health status and contact with health services        190078 non-null int64\n",
      "icd10_cluster_Injury, poisonining, and certain other consequences of external causes    190078 non-null int64\n",
      "icd10_cluster_Mental and behavioural disorders                                          190078 non-null int64\n",
      "dtypes: float64(5), int64(35)\n",
      "memory usage: 59.5 MB\n"
     ]
    }
   ],
   "source": [
    "X_train=X_train[cols]\n",
    "X_train.info()"
   ]
  },
  {
   "cell_type": "code",
   "execution_count": 25,
   "metadata": {},
   "outputs": [
    {
     "name": "stdout",
     "output_type": "stream",
     "text": [
      "Warning: Maximum number of iterations has been exceeded.\n",
      "         Current function value: 0.450607\n",
      "         Iterations: 35\n"
     ]
    },
    {
     "name": "stderr",
     "output_type": "stream",
     "text": [
      "C:\\tooling\\Anaconda3\\lib\\site-packages\\statsmodels\\base\\model.py:496: ConvergenceWarning: Maximum Likelihood optimization failed to converge. Check mle_retvals\n",
      "  \"Check mle_retvals\", ConvergenceWarning)\n"
     ]
    },
    {
     "name": "stdout",
     "output_type": "stream",
     "text": [
      "                            Logit Regression Results                           \n",
      "===============================================================================\n",
      "Dep. Variable:     death_within_7_days   No. Observations:               190078\n",
      "Model:                           Logit   Df Residuals:                   190038\n",
      "Method:                            MLE   Df Model:                           39\n",
      "Date:                 Fri, 13 Apr 2018   Pseudo R-squ.:                  0.1792\n",
      "Time:                         17:13:14   Log-Likelihood:                -85650.\n",
      "converged:                       False   LL-Null:                   -1.0435e+05\n",
      "                                         LLR p-value:                     0.000\n",
      "========================================================================================================================================================\n",
      "                                                                                           coef    std err          z      P>|z|      [0.025      0.975]\n",
      "--------------------------------------------------------------------------------------------------------------------------------------------------------\n",
      "3_visit_max_pain                                                                         0.1996      0.006     33.569      0.000       0.188       0.211\n",
      "3_visit_max_shortnessofbreath                                                            0.3328      0.007     49.622      0.000       0.320       0.346\n",
      "3_visit_mean_pain                                                                       -0.2415      0.008    -30.290      0.000      -0.257      -0.226\n",
      "3_visit_mean_shortnessofbreath                                                          -0.3327      0.008    -42.110      0.000      -0.348      -0.317\n",
      "AdvanceDirective_Yes - Full Code / Advanced Cardiac Life Support (ACLS)                 -0.4593      0.036    -12.936      0.000      -0.529      -0.390\n",
      "InsuranceType_Medicaid Traditional                                                      -0.2998      0.043     -6.908      0.000      -0.385      -0.215\n",
      "InsuranceType_Medicare (HMO/Per Visit)                                                  -0.5271      0.174     -3.034      0.002      -0.868      -0.187\n",
      "InsuranceType_Other Government                                                          -1.6381      0.430     -3.808      0.000      -2.481      -0.795\n",
      "InsuranceType_Private Pay                                                                1.1268      0.407      2.768      0.006       0.329       1.925\n",
      "InsuranceType_Self-Pay                                                                   0.5368      0.159      3.378      0.001       0.225       0.848\n",
      "InsuranceType_TRICARE                                                                   -0.5478      0.276     -1.987      0.047      -1.088      -0.007\n",
      "InsuranceType_Title Progams (e.g. Title III, V, or XX)                                   0.8395      0.425      1.976      0.048       0.007       1.672\n",
      "InsuranceType_Unknown                                                                  -28.2614   1.82e+05     -0.000      1.000   -3.56e+05    3.56e+05\n",
      "InsuranceType_Veteran Administration Plan                                               -0.2831      0.119     -2.373      0.018      -0.517      -0.049\n",
      "Lack_of_Appetite                                                                         0.2773      0.002    131.991      0.000       0.273       0.281\n",
      "LevelofCare_Continuous (CHC)                                                            -2.1529      0.038    -56.445      0.000      -2.228      -2.078\n",
      "LevelofCare_Inpatient (GIP)                                                             -0.8514      0.033    -25.759      0.000      -0.916      -0.787\n",
      "LevelofCare_Respite                                                                     -2.5923      0.084    -30.691      0.000      -2.758      -2.427\n",
      "LevelofCare_Routine                                                                     -2.6652      0.019   -137.326      0.000      -2.703      -2.627\n",
      "Race_Asian                                                                              -0.2418      0.039     -6.222      0.000      -0.318      -0.166\n",
      "Race_Black or African American                                                          -0.3565      0.026    -13.713      0.000      -0.407      -0.306\n",
      "Race_Native Hawaiian or Pacific Islander                                                 0.2508      0.110      2.281      0.023       0.035       0.466\n",
      "ReferralType_Clinic or physician's office                                               -0.4388      0.017    -26.324      0.000      -0.471      -0.406\n",
      "ReferralType_Court/Law Enforcement                                                      16.3591   1348.876      0.012      0.990   -2627.390    2660.108\n",
      "ReferralType_Information not available                                                  -0.5237      0.050    -10.412      0.000      -0.622      -0.425\n",
      "ReferralType_Non-health care facility                                                   -0.4250      0.017    -25.192      0.000      -0.458      -0.392\n",
      "ReferralType_Transfer from Home Health Agency                                           -0.5010      0.028    -17.780      0.000      -0.556      -0.446\n",
      "ReferralType_Transfer from Hospice                                                      -0.7151      0.045    -15.806      0.000      -0.804      -0.626\n",
      "ReferralType_Transfer from SNF or ICF                                                   -0.2281      0.026     -8.624      0.000      -0.280      -0.176\n",
      "icd10_cluster_Certain conditions originating in the perinatal period                    26.5002   3.22e+05   8.24e-05      1.000   -6.31e+05    6.31e+05\n",
      "icd10_cluster_Certain infectious and parasitic diseases                                  0.3393      0.077      4.422      0.000       0.189       0.490\n",
      "icd10_cluster_Congenital malformations, deformations and chromosomal abnormalities      -0.7192      0.287     -2.504      0.012      -1.282      -0.156\n",
      "icd10_cluster_Diseases of the genitourinary system                                       0.4299      0.036     11.840      0.000       0.359       0.501\n",
      "icd10_cluster_Diseases of the musculoskeletal system and connective tissue              -0.2298      0.126     -1.831      0.067      -0.476       0.016\n",
      "icd10_cluster_Diseases of the nervous system                                            -0.1733      0.015    -11.340      0.000      -0.203      -0.143\n",
      "icd10_cluster_Diseases of the skin and subcutaneous tissue                              -0.7794      0.265     -2.946      0.003      -1.298      -0.261\n",
      "icd10_cluster_Endocrine, nutritional, and metabolic diseases                            -0.3820      0.039     -9.826      0.000      -0.458      -0.306\n",
      "icd10_cluster_Factors influencing health status and contact with health services        -0.2337      0.324     -0.721      0.471      -0.869       0.402\n",
      "icd10_cluster_Injury, poisonining, and certain other consequences of external causes     0.5643      0.103      5.480      0.000       0.362       0.766\n",
      "icd10_cluster_Mental and behavioural disorders                                          -0.1959      0.108     -1.806      0.071      -0.409       0.017\n",
      "========================================================================================================================================================\n"
     ]
    }
   ],
   "source": [
    "from scipy import stats\n",
    "stats.chisqprob = lambda chisq, df: stats.chi2.sf(chisq, df) #workaround for deprecated chisq function\n",
    "logit_model=sm.Logit(y_train,X_train)\n",
    "result=logit_model.fit()\n",
    "print(result.summary())"
   ]
  },
  {
   "cell_type": "markdown",
   "metadata": {},
   "source": [
    "Several of these variables could still be removed. But I could probably keep most... Removing the 6 variables likely wouldn't be necesssary..."
   ]
  },
  {
   "cell_type": "markdown",
   "metadata": {},
   "source": [
    "<br>\n",
    "## Feature importance with Random Forest<br>\n",
    "Building a random forest model for feature importance. Should produce similar results to a for statistical test for inference, but displays data in a way that is easier to interpret without background knowledge of P-values, F-tests, etc."
   ]
  },
  {
   "cell_type": "code",
   "execution_count": null,
   "metadata": {},
   "outputs": [],
   "source": []
  }
 ],
 "metadata": {
  "kernelspec": {
   "display_name": "Python 3",
   "language": "python",
   "name": "python3"
  },
  "language_info": {
   "codemirror_mode": {
    "name": "ipython",
    "version": 3
   },
   "file_extension": ".py",
   "mimetype": "text/x-python",
   "name": "python",
   "nbconvert_exporter": "python",
   "pygments_lexer": "ipython3",
   "version": "3.6.4"
  }
 },
 "nbformat": 4,
 "nbformat_minor": 2
}
