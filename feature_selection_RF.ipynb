{
 "cells": [
  {
   "cell_type": "markdown",
   "metadata": {},
   "source": [
    "<br>\n",
    "## Feature importance with Random Forest<br>\n",
    "Building a random forest model for feature importance. Should produce similar results to a for statistical test for inference, but displays data in a way that is easier to interpret without background knowledge of P-values, F-tests, etc."
   ]
  },
  {
   "cell_type": "code",
   "execution_count": 1,
   "metadata": {},
   "outputs": [
    {
     "name": "stderr",
     "output_type": "stream",
     "text": [
      "C:\\tooling\\Anaconda3\\lib\\site-packages\\sklearn\\cross_validation.py:41: DeprecationWarning: This module was deprecated in version 0.18 in favor of the model_selection module into which all the refactored classes and functions are moved. Also note that the interface of the new CV iterators are different from that of this module. This module will be removed in 0.20.\n",
      "  \"This module will be removed in 0.20.\", DeprecationWarning)\n"
     ]
    }
   ],
   "source": [
    "#load libraries\n",
    "import pandas as pd\n",
    "import numpy as np\n",
    "%matplotlib inline\n",
    "import matplotlib.pyplot as plt\n",
    "from sklearn.feature_selection import RFE\n",
    "from sklearn.linear_model import LogisticRegression\n",
    "from sklearn.cross_validation import train_test_split\n",
    "from sklearn.ensemble import RandomForestClassifier\n",
    "\n",
    "from IPython.display import display #displays full dataframe columns\n",
    "#display all dataframe columns when printed\n",
    "pd.options.display.max_columns = None"
   ]
  },
  {
   "cell_type": "code",
   "execution_count": 2,
   "metadata": {},
   "outputs": [
    {
     "data": {
      "text/plain": [
       "(271541, 120)"
      ]
     },
     "execution_count": 2,
     "metadata": {},
     "output_type": "execute_result"
    }
   ],
   "source": [
    "#load data\n",
    "df = pd.read_csv('C:/Users/Mark.Burghart/Documents/projects/hospice_carepoint/data/transformed/carepoint_transformed_dummied.csv', index_col=0)\n",
    "df.shape"
   ]
  },
  {
   "cell_type": "code",
   "execution_count": 3,
   "metadata": {},
   "outputs": [],
   "source": [
    "#separate variables (X) from outcome of interest (y)\n",
    "df.shape\n",
    "cols = df.columns.get_values() #converts column names to list\n",
    "cols = cols.tolist()\n",
    "feature_cols = [x for x in cols if x != 'death_within_7_days'] #removes outcome of interest from list ('death_within_7_days')\n",
    "\n",
    "feat_labels = feature_cols\n",
    "\n",
    "#extract rows\n",
    "#print(feature_cols) #debug\n",
    "X = df.loc[:, feature_cols]\n",
    "X.shape #outcome column has been removed\n",
    "\n",
    "#save outcome variable as y\n",
    "y = df.death_within_7_days\n",
    "y.shape\n",
    "\n",
    "#separate data into training/test (aka holdout) sets\n",
    "X_train, X_test, y_train, y_test = train_test_split(X, y, test_size = 0.30, random_state = 23) #random_state for reproducibility (if needed)"
   ]
  },
  {
   "cell_type": "code",
   "execution_count": 4,
   "metadata": {},
   "outputs": [],
   "source": [
    "#impute missing values: replacing NaNs with Median Column value for each column\n",
    "X_train_med = X_train.fillna(X_train.median()) \n",
    "y_train_med = y_train.fillna(y_train.median())"
   ]
  },
  {
   "cell_type": "code",
   "execution_count": 5,
   "metadata": {},
   "outputs": [
    {
     "data": {
      "text/plain": [
       "['Gender',\n",
       " 'Anxiety',\n",
       " 'Depression',\n",
       " 'Drowsiness',\n",
       " 'Lack_of_Appetite',\n",
       " 'Nausea',\n",
       " 'Pain',\n",
       " 'Shortness_of_Breath',\n",
       " 'Tiredness',\n",
       " 'Wellbeing',\n",
       " 'LengthOfCare_days',\n",
       " '3_visit_max_anxiety',\n",
       " '3_visit_max_depression',\n",
       " '3_visit_max_drowsiness',\n",
       " '3_visit_max_lackofappetite',\n",
       " '3_visit_max_nausea',\n",
       " '3_visit_max_pain',\n",
       " '3_visit_max_shortnessofbreath',\n",
       " '3_visit_max_tiredness',\n",
       " '3_visit_max_wellbeing',\n",
       " '5_visit_max_anxiety',\n",
       " '5_visit_max_depression',\n",
       " '5_visit_max_drowsiness',\n",
       " '5_visit_max_lackofappetite',\n",
       " '5_visit_max_nausea',\n",
       " '5_visit_max_pain',\n",
       " '5_visit_max_shortnessofbreath',\n",
       " '5_visit_max_tiredness',\n",
       " '5_visit_max_wellbeing',\n",
       " '3_visit_mean_anxiety',\n",
       " '3_visit_mean_depression',\n",
       " '3_visit_mean_drowsiness',\n",
       " '3_visit_mean_lackofappetite',\n",
       " '3_visit_mean_nausea',\n",
       " '3_visit_mean_pain',\n",
       " '3_visit_mean_shortnessofbreath',\n",
       " '3_visit_mean_tiredness',\n",
       " '3_visit_mean_wellbeing',\n",
       " '5_visit_mean_anxiety',\n",
       " '5_visit_mean_depression',\n",
       " '5_visit_mean_drowsiness',\n",
       " '5_visit_mean_lackofappetite',\n",
       " '5_visit_mean_nausea',\n",
       " '5_visit_mean_pain',\n",
       " '5_visit_mean_shortnessofbreath',\n",
       " '5_visit_mean_tiredness',\n",
       " '5_visit_mean_wellbeing',\n",
       " 'Anxiety_change',\n",
       " 'Depression_change',\n",
       " 'Drowsiness_change',\n",
       " 'LackofAppetite_change',\n",
       " 'Nausea_change',\n",
       " 'Pain_change',\n",
       " 'ShortnessofBreath_change',\n",
       " 'Tiredness_change',\n",
       " 'Wellbeing_change',\n",
       " 'Age',\n",
       " 'ESAS_visit_total',\n",
       " '3_visit_max_esas',\n",
       " '5_visit_max_esas',\n",
       " '3_visit_mean_esas',\n",
       " '5_visit_mean_esas',\n",
       " 'ESAS_change',\n",
       " 'AdvanceDirective_ No',\n",
       " 'AdvanceDirective_Living Will',\n",
       " 'AdvanceDirective_Yes - Do Not Resuscitate (DNR)',\n",
       " 'AdvanceDirective_Yes - Full Code / Advanced Cardiac Life Support (ACLS)',\n",
       " \"ReferralType_Clinic or physician's office\",\n",
       " 'ReferralType_Court/Law Enforcement',\n",
       " 'ReferralType_Information not available',\n",
       " 'ReferralType_Non-health care facility',\n",
       " 'ReferralType_Transfer from Home Health Agency',\n",
       " 'ReferralType_Transfer from Hospice',\n",
       " 'ReferralType_Transfer from SNF or ICF',\n",
       " 'ReferralType_Transfer from hospital',\n",
       " 'LevelofCare_Continuous (CHC)',\n",
       " 'LevelofCare_Inpatient (GIP)',\n",
       " 'LevelofCare_Respite',\n",
       " 'LevelofCare_Routine',\n",
       " 'Race_American Indian or Alaskan Native',\n",
       " 'Race_Asian',\n",
       " 'Race_Black or African American',\n",
       " 'Race_Hispanic or Latino',\n",
       " 'Race_Native Hawaiian or Pacific Islander',\n",
       " 'Race_White',\n",
       " 'InsuranceType_Medicaid (HMO/Managed Care)',\n",
       " 'InsuranceType_Medicaid Room and Board',\n",
       " 'InsuranceType_Medicaid Traditional',\n",
       " 'InsuranceType_Medicare (Advantage/PFFS)',\n",
       " 'InsuranceType_Medicare (HMO/Per Visit)',\n",
       " 'InsuranceType_Medicare Traditional',\n",
       " 'InsuranceType_None- No Charge for Current Service',\n",
       " 'InsuranceType_Other',\n",
       " 'InsuranceType_Other Government',\n",
       " 'InsuranceType_Private HMO/Managed Care',\n",
       " 'InsuranceType_Private Insurance',\n",
       " 'InsuranceType_Private Pay',\n",
       " 'InsuranceType_Self-Pay',\n",
       " 'InsuranceType_TRICARE',\n",
       " 'InsuranceType_Title Progams (e.g. Title III, V, or XX)',\n",
       " 'InsuranceType_Unknown',\n",
       " 'InsuranceType_Veteran Administration Plan',\n",
       " 'icd10_cluster_Certain conditions originating in the perinatal period',\n",
       " 'icd10_cluster_Certain infectious and parasitic diseases',\n",
       " 'icd10_cluster_Congenital malformations, deformations and chromosomal abnormalities',\n",
       " 'icd10_cluster_Diseases of the blood and blood-forming organs and certain disorders involving the immune mechanism',\n",
       " 'icd10_cluster_Diseases of the circulatory system',\n",
       " 'icd10_cluster_Diseases of the digestive system',\n",
       " 'icd10_cluster_Diseases of the genitourinary system',\n",
       " 'icd10_cluster_Diseases of the musculoskeletal system and connective tissue',\n",
       " 'icd10_cluster_Diseases of the nervous system',\n",
       " 'icd10_cluster_Diseases of the respiratory system',\n",
       " 'icd10_cluster_Diseases of the skin and subcutaneous tissue',\n",
       " 'icd10_cluster_Endocrine, nutritional, and metabolic diseases',\n",
       " 'icd10_cluster_Factors influencing health status and contact with health services',\n",
       " 'icd10_cluster_Injury, poisonining, and certain other consequences of external causes',\n",
       " 'icd10_cluster_Mental and behavioural disorders',\n",
       " 'icd10_cluster_Neoplasms',\n",
       " 'icd10_cluster_Symptoms, signs and abnormal clinical and laboratory findings, not elsewhere classified']"
      ]
     },
     "execution_count": 5,
     "metadata": {},
     "output_type": "execute_result"
    }
   ],
   "source": [
    "feat_labels"
   ]
  },
  {
   "cell_type": "code",
   "execution_count": 6,
   "metadata": {},
   "outputs": [
    {
     "name": "stdout",
     "output_type": "stream",
     "text": [
      "Wall time: 1min 33s\n"
     ]
    }
   ],
   "source": [
    "%%time\n",
    "# random forest with 500 trees for MEDIAN IMPUTATION dataset\n",
    "forest_med = RandomForestClassifier(n_estimators = 500, random_state = 1, n_jobs= -1) #parallize across available cores\n",
    "forest_med.fit(X_train_med, y_train_med)"
   ]
  },
  {
   "cell_type": "code",
   "execution_count": 68,
   "metadata": {},
   "outputs": [
    {
     "name": "stdout",
     "output_type": "stream",
     "text": [
      "Feature ranking:\n",
      " 1) Lack_of_Appetite               0.064964\n",
      " 2) Age                            0.062837\n",
      " 3) LengthOfCare_days              0.054274\n",
      " 4) Drowsiness                     0.039604\n",
      " 5) Tiredness                      0.034191\n",
      " 6) 3_visit_max_lackofappetite     0.029587\n",
      " 7) ESAS_visit_total               0.028009\n",
      " 8) Wellbeing                      0.025102\n",
      " 9) 3_visit_mean_lackofappetite    0.022468\n",
      "10) Shortness_of_Breath            0.018365\n",
      "11) 3_visit_max_tiredness          0.016547\n",
      "12) 3_visit_max_drowsiness         0.015941\n",
      "13) Depression                     0.015856\n",
      "14) 3_visit_mean_tiredness         0.015178\n",
      "15) 3_visit_mean_drowsiness        0.015172\n",
      "16) Anxiety                        0.014242\n",
      "17) 5_visit_max_lackofappetite     0.014232\n",
      "18) Pain                           0.013905\n",
      "19) 5_visit_mean_lackofappetite    0.013896\n",
      "20) LevelofCare_Inpatient (GIP)    0.013490\n",
      "21) LackofAppetite_change          0.011768\n",
      "22) 3_visit_mean_pain              0.011724\n",
      "23) 5_visit_mean_tiredness         0.011666\n",
      "24) ShortnessofBreath_change       0.011253\n",
      "25) Pain_change                    0.011205\n",
      "26) 5_visit_mean_pain              0.011099\n",
      "27) 5_visit_mean_drowsiness        0.010984\n",
      "28) 3_visit_mean_shortnessofbreath 0.010872\n",
      "29) Tiredness_change               0.010627\n",
      "30) Drowsiness_change              0.010535\n",
      "31) 3_visit_max_pain               0.010042\n",
      "32) 3_visit_mean_esas              0.010039\n",
      "33) 3_visit_mean_wellbeing         0.010011\n",
      "34) LevelofCare_Routine            0.009873\n",
      "35) ESAS_change                    0.009574\n",
      "36) 3_visit_max_shortnessofbreath  0.009458\n",
      "37) 5_visit_mean_shortnessofbreath 0.009265\n",
      "38) 5_visit_max_pain               0.009119\n",
      "39) 3_visit_mean_anxiety           0.008928\n",
      "40) 3_visit_max_esas               0.008800\n",
      "41) Gender                         0.008732\n",
      "42) 5_visit_max_drowsiness         0.008651\n",
      "43) 3_visit_max_wellbeing          0.008618\n",
      "44) Anxiety_change                 0.008376\n",
      "45) Wellbeing_change               0.008299\n",
      "46) 5_visit_mean_wellbeing         0.008089\n",
      "47) 5_visit_mean_anxiety           0.007931\n",
      "48) Race_White                     0.007751\n",
      "49) 3_visit_mean_depression        0.007669\n",
      "50) ReferralType_Transfer from hospital 0.007628\n",
      "51) 3_visit_max_anxiety            0.007483\n",
      "52) 5_visit_max_shortnessofbreath  0.007459\n",
      "53) 5_visit_mean_esas              0.007401\n",
      "54) 5_visit_max_tiredness          0.007185\n",
      "55) icd10_cluster_Neoplasms        0.006974\n",
      "56) AdvanceDirective_Yes - Do Not Resuscitate (DNR) 0.006536\n",
      "57) AdvanceDirective_ No           0.006428\n",
      "58) 5_visit_max_esas               0.006376\n",
      "59) icd10_cluster_Diseases of the nervous system 0.006176\n",
      "60) ReferralType_Clinic or physician's office 0.006024\n",
      "61) ReferralType_Non-health care facility 0.005936\n",
      "62) 5_visit_max_anxiety            0.005863\n",
      "63) Nausea                         0.005853\n",
      "64) 5_visit_mean_depression        0.005811\n",
      "65) 5_visit_max_wellbeing          0.005585\n",
      "66) icd10_cluster_Diseases of the circulatory system 0.005576\n",
      "67) 3_visit_max_depression         0.005509\n",
      "68) Depression_change              0.004792\n",
      "69) Race_Hispanic or Latino        0.004125\n",
      "70) 5_visit_max_depression         0.004023\n",
      "71) Nausea_change                  0.003964\n",
      "72) 3_visit_mean_nausea            0.003732\n",
      "73) ReferralType_Transfer from SNF or ICF 0.003655\n",
      "74) icd10_cluster_Diseases of the respiratory system 0.003486\n",
      "75) Race_Black or African American 0.003430\n",
      "76) 5_visit_mean_nausea            0.003261\n",
      "77) 3_visit_max_nausea             0.003243\n",
      "78) InsuranceType_Medicare Traditional 0.002969\n",
      "79) ReferralType_Transfer from Home Health Agency 0.002904\n",
      "80) 5_visit_max_nausea             0.002645\n",
      "81) icd10_cluster_Diseases of the genitourinary system 0.002466\n",
      "82) icd10_cluster_Endocrine, nutritional, and metabolic diseases 0.002040\n",
      "83) LevelofCare_Continuous (CHC)   0.001939\n",
      "84) Race_Asian                     0.001836\n",
      "85) AdvanceDirective_Yes - Full Code / Advanced Cardiac Life Support (ACLS) 0.001830\n",
      "86) icd10_cluster_Diseases of the digestive system 0.001773\n",
      "87) ReferralType_Transfer from Hospice 0.001516\n",
      "88) InsuranceType_Private HMO/Managed Care 0.001434\n",
      "89) icd10_cluster_Symptoms, signs and abnormal clinical and laboratory findings, not elsewhere classified 0.001390\n",
      "90) InsuranceType_Medicaid Traditional 0.001384\n",
      "91) ReferralType_Information not available 0.001303\n",
      "92) InsuranceType_Private Insurance 0.001298\n",
      "93) AdvanceDirective_Living Will   0.001269\n",
      "94) Race_American Indian or Alaskan Native 0.000972\n",
      "95) icd10_cluster_Certain infectious and parasitic diseases 0.000888\n",
      "96) InsuranceType_Medicaid (HMO/Managed Care) 0.000887\n",
      "97) InsuranceType_None- No Charge for Current Service 0.000828\n",
      "98) icd10_cluster_Injury, poisonining, and certain other consequences of external causes 0.000546\n",
      "99) LevelofCare_Respite            0.000528\n",
      "100) icd10_cluster_Mental and behavioural disorders 0.000496\n",
      "101) Race_Native Hawaiian or Pacific Islander 0.000390\n",
      "102) icd10_cluster_Diseases of the musculoskeletal system and connective tissue 0.000340\n",
      "103) icd10_cluster_Diseases of the blood and blood-forming organs and certain disorders involving the immune mechanism 0.000332\n",
      "104) InsuranceType_Veteran Administration Plan 0.000277\n",
      "105) InsuranceType_Self-Pay         0.000265\n",
      "106) InsuranceType_Other            0.000195\n",
      "107) InsuranceType_Medicare (Advantage/PFFS) 0.000141\n",
      "108) InsuranceType_Medicare (HMO/Per Visit) 0.000113\n",
      "109) icd10_cluster_Diseases of the skin and subcutaneous tissue 0.000103\n",
      "110) InsuranceType_TRICARE          0.000098\n",
      "111) icd10_cluster_Congenital malformations, deformations and chromosomal abnormalities 0.000094\n",
      "112) InsuranceType_Title Progams (e.g. Title III, V, or XX) 0.000049\n",
      "113) icd10_cluster_Factors influencing health status and contact with health services 0.000033\n",
      "114) InsuranceType_Unknown          0.000029\n",
      "115) InsuranceType_Private Pay      0.000027\n",
      "116) InsuranceType_Other Government 0.000026\n",
      "117) icd10_cluster_Certain conditions originating in the perinatal period 0.000012\n",
      "118) ReferralType_Court/Law Enforcement 0.000004\n",
      "119) InsuranceType_Medicaid Room and Board 0.000000\n"
     ]
    }
   ],
   "source": [
    "importances = forest_med.feature_importances_\n",
    "indices = np.argsort(importances)[:: -1]\n",
    "\n",
    "#for top k features for plot below\n",
    "top_k = 20\n",
    "new_indices = indices[:top_k]\n",
    "\n",
    "print(\"Feature ranking:\")\n",
    "for f in range(X_train_med.shape[1]):\n",
    "    print(\"%2d) %-*s %f\" % (f + 1, 30, \n",
    "                           feat_labels[indices[f]],\n",
    "                           importances[indices[f]]))"
   ]
  },
  {
   "cell_type": "code",
   "execution_count": 65,
   "metadata": {},
   "outputs": [
    {
     "name": "stdout",
     "output_type": "stream",
     "text": [
      "Top 20 Feature Ranking:\n",
      "1. Lack_of_Appetite               0.064964\n",
      "2. Age                            0.062837\n",
      "3. LengthOfCare_days              0.054274\n",
      "4. Drowsiness                     0.039604\n",
      "5. Tiredness                      0.034191\n",
      "6. 3_visit_max_lackofappetite     0.029587\n",
      "7. ESAS_visit_total               0.028009\n",
      "8. Wellbeing                      0.025102\n",
      "9. 3_visit_mean_lackofappetite    0.022468\n",
      "10. Shortness_of_Breath            0.018365\n",
      "11. 3_visit_max_tiredness          0.016547\n",
      "12. 3_visit_max_drowsiness         0.015941\n",
      "13. Depression                     0.015856\n",
      "14. 3_visit_mean_tiredness         0.015178\n",
      "15. 3_visit_mean_drowsiness        0.015172\n",
      "16. Anxiety                        0.014242\n",
      "17. 5_visit_max_lackofappetite     0.014232\n",
      "18. Pain                           0.013905\n",
      "19. 5_visit_mean_lackofappetite    0.013896\n",
      "20. LevelofCare_Inpatient (GIP)    0.013490\n"
     ]
    }
   ],
   "source": [
    "#print out just top K features\n",
    "print(\"Top 20 Feature Ranking:\")\n",
    "\n",
    "for f in range(top_k):\n",
    "    print(\"%d. %-*s %f\" % (f + 1, 30, feat_labels[new_indices[f]], importances[new_indices[f]]))\n"
   ]
  },
  {
   "cell_type": "code",
   "execution_count": null,
   "metadata": {},
   "outputs": [],
   "source": []
  },
  {
   "cell_type": "code",
   "execution_count": 34,
   "metadata": {},
   "outputs": [
    {
     "data": {
      "image/png": "[encoded data removed]",
      "text/plain": [
       "<matplotlib.figure.Figure at 0x25845e15a90>"
      ]
     },
     "metadata": {},
     "output_type": "display_data"
    }
   ],
   "source": [
    "#Plot the feature importances of the forest (rotated)\n",
    "plt.figure()\n",
    "plt.title(\"Variable importance\")\n",
    "plt.bar(range(X_train.shape[1]), importances[indices],\n",
    "       color=\"b\", align=\"center\")\n",
    "\n",
    "#Edited here (put top_k in range)\n",
    "#plt.xticks(range(X_train.shape[1]))\n",
    "#Edited here (put top_k)\n",
    "plt.xlim([-1, X_train.shape[1]])\n",
    "plt.xlabel('Number of variables')\n",
    "plt.show()"
   ]
  },
  {
   "cell_type": "code",
   "execution_count": 60,
   "metadata": {},
   "outputs": [
    {
     "data": {
      "text/plain": [
       "<matplotlib.axes._subplots.AxesSubplot at 0x25845c6cd30>"
      ]
     },
     "execution_count": 60,
     "metadata": {},
     "output_type": "execute_result"
    },
    {
     "data": {
      "image/png": "[encoded data removed]",
      "text/plain": [
       "<matplotlib.figure.Figure at 0x25845c5f4e0>"
      ]
     },
     "metadata": {},
     "output_type": "display_data"
    }
   ],
   "source": [
    "#top 20 horizontal\n",
    "feat_importances = pd.Series(forest_med.feature_importances_, index=X.columns)\n",
    "feat_importances = feat_importances.nlargest(20)\n",
    "feat_importances.plot(kind='barh', colormap='Blues_r', title = '20 most important variables')"
   ]
  },
  {
   "cell_type": "code",
   "execution_count": 61,
   "metadata": {},
   "outputs": [
    {
     "data": {
      "text/plain": [
       "<matplotlib.axes._subplots.AxesSubplot at 0x25846129048>"
      ]
     },
     "execution_count": 61,
     "metadata": {},
     "output_type": "execute_result"
    },
    {
     "data": {
      "image/png": "[encoded data removed]",
      "text/plain": [
       "<matplotlib.figure.Figure at 0x2584613e860>"
      ]
     },
     "metadata": {},
     "output_type": "display_data"
    }
   ],
   "source": [
    "#top 20 vertical\n",
    "feat_importances.plot(kind='bar', colormap='Blues_r', title = '20 most important variables')"
   ]
  },
  {
   "cell_type": "code",
   "execution_count": null,
   "metadata": {},
   "outputs": [],
   "source": []
  }
 ],
 "metadata": {
  "kernelspec": {
   "display_name": "Python 3",
   "language": "python",
   "name": "python3"
  },
  "language_info": {
   "codemirror_mode": {
    "name": "ipython",
    "version": 3
   },
   "file_extension": ".py",
   "mimetype": "text/x-python",
   "name": "python",
   "nbconvert_exporter": "python",
   "pygments_lexer": "ipython3",
   "version": "3.6.4"
  }
 },
 "nbformat": 4,
 "nbformat_minor": 2
}
