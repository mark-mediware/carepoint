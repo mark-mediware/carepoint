{
 "cells": [
  {
   "cell_type": "markdown",
   "metadata": {},
   "source": [
    "<br>\n",
    "## Feature importance with Random Forest<br>\n",
    "Building a random forest model for feature importance. Should produce similar results to a for statistical test for inference, but displays data in a way that is easier to interpret without background knowledge of P-values, F-tests, etc."
   ]
  },
  {
   "cell_type": "code",
   "execution_count": 3,
   "metadata": {},
   "outputs": [],
   "source": [
    "#load libraries\n",
    "import pandas as pd\n",
    "import numpy as np\n",
    "%matplotlib inline\n",
    "import matplotlib.pyplot as plt\n",
    "from sklearn.feature_selection import RFE\n",
    "from sklearn.linear_model import LogisticRegression\n",
    "from sklearn.cross_validation import train_test_split\n",
    "from sklearn.ensemble import RandomForestClassifier\n",
    "\n",
    "from IPython.display import display #displays full dataframe columns\n",
    "#display all dataframe columns when printed\n",
    "pd.options.display.max_columns = None"
   ]
  },
  {
   "cell_type": "code",
   "execution_count": 4,
   "metadata": {},
   "outputs": [
    {
     "data": {
      "text/plain": [
       "(271541, 120)"
      ]
     },
     "execution_count": 4,
     "metadata": {},
     "output_type": "execute_result"
    }
   ],
   "source": [
    "#load data\n",
    "df = pd.read_csv('C:/Users/Mark.Burghart/Documents/projects/hospice_carepoint/data/transformed/carepoint_transformed_dummied.csv', index_col=0)\n",
    "df.shape"
   ]
  },
  {
   "cell_type": "code",
   "execution_count": 8,
   "metadata": {},
   "outputs": [],
   "source": [
    "#separate variables (X) from outcome of interest (y)\n",
    "df.shape\n",
    "cols = df.columns.get_values() #converts column names to list\n",
    "cols = cols.tolist()\n",
    "feature_cols = [x for x in cols if x != 'death_within_7_days'] #removes outcome of interest from list ('death_within_7_days')\n",
    "\n",
    "feat_labels = feature_cols\n",
    "\n",
    "#extract rows\n",
    "#print(feature_cols) #debug\n",
    "X = df.loc[:, feature_cols]\n",
    "X.shape #outcome column has been removed\n",
    "\n",
    "#save outcome variable as y\n",
    "y = df.death_within_7_days\n",
    "y.shape\n",
    "\n",
    "#separate data into training/test (aka holdout) sets\n",
    "X_train, X_test, y_train, y_test = train_test_split(X, y, test_size = 0.30, random_state = 23) #random_state for reproducibility (if needed)"
   ]
  },
  {
   "cell_type": "code",
   "execution_count": 6,
   "metadata": {},
   "outputs": [],
   "source": [
    "#impute missing values: replacing NaNs with Median Column value for each column\n",
    "X_train_med = X_train.fillna(X_train.median()) \n",
    "y_train_med = y_train.fillna(y_train.median())"
   ]
  },
  {
   "cell_type": "markdown",
   "metadata": {},
   "source": [
    "I'd like to assess two Random Forests for feature significance: One for no data imputation. One for Median imputation."
   ]
  },
  {
   "cell_type": "code",
   "execution_count": 9,
   "metadata": {},
   "outputs": [
    {
     "data": {
      "text/plain": [
       "['gender',\n",
       " 'Anxiety',\n",
       " 'Depression',\n",
       " 'Drowsiness',\n",
       " 'Lack_of_Appetite',\n",
       " 'Nausea',\n",
       " 'Pain',\n",
       " 'Shortness_of_Breath',\n",
       " 'Tiredness',\n",
       " 'Wellbeing',\n",
       " 'LengthOfCare_days',\n",
       " '3_visit_max_anxiety',\n",
       " '3_visit_max_depression',\n",
       " '3_visit_max_drowsiness',\n",
       " '3_visit_max_lackofappetite',\n",
       " '3_visit_max_nausea',\n",
       " '3_visit_max_pain',\n",
       " '3_visit_max_shortnessofbreath',\n",
       " '3_visit_max_tiredness',\n",
       " '3_visit_max_wellbeing',\n",
       " '5_visit_max_anxiety',\n",
       " '5_visit_max_depression',\n",
       " '5_visit_max_drowsiness',\n",
       " '5_visit_max_lackofappetite',\n",
       " '5_visit_max_nausea',\n",
       " '5_visit_max_pain',\n",
       " '5_visit_max_shortnessofbreath',\n",
       " '5_visit_max_tiredness',\n",
       " '5_visit_max_wellbeing',\n",
       " '3_visit_mean_anxiety',\n",
       " '3_visit_mean_depression',\n",
       " '3_visit_mean_drowsiness',\n",
       " '3_visit_mean_lackofappetite',\n",
       " '3_visit_mean_nausea',\n",
       " '3_visit_mean_pain',\n",
       " '3_visit_mean_shortnessofbreath',\n",
       " '3_visit_mean_tiredness',\n",
       " '3_visit_mean_wellbeing',\n",
       " '5_visit_mean_anxiety',\n",
       " '5_visit_mean_depression',\n",
       " '5_visit_mean_drowsiness',\n",
       " '5_visit_mean_lackofappetite',\n",
       " '5_visit_mean_nausea',\n",
       " '5_visit_mean_pain',\n",
       " '5_visit_mean_shortnessofbreath',\n",
       " '5_visit_mean_tiredness',\n",
       " '5_visit_mean_wellbeing',\n",
       " 'Anxiety_change',\n",
       " 'Depression_change',\n",
       " 'Drowsiness_change',\n",
       " 'LackofAppetite_change',\n",
       " 'Nausea_change',\n",
       " 'Pain_change',\n",
       " 'ShortnessofBreath_change',\n",
       " 'Tiredness_change',\n",
       " 'Wellbeing_change',\n",
       " 'Age',\n",
       " 'ESAS_visit_total',\n",
       " '3_visit_max_esas',\n",
       " '5_visit_max_esas',\n",
       " '3_visit_mean_esas',\n",
       " '5_visit_mean_esas',\n",
       " 'ESAS_change',\n",
       " 'AdvanceDirective_ No',\n",
       " 'AdvanceDirective_Living Will',\n",
       " 'AdvanceDirective_Yes - Do Not Resuscitate (DNR)',\n",
       " 'AdvanceDirective_Yes - Full Code / Advanced Cardiac Life Support (ACLS)',\n",
       " \"ReferralType_Clinic or physician's office\",\n",
       " 'ReferralType_Court/Law Enforcement',\n",
       " 'ReferralType_Information not available',\n",
       " 'ReferralType_Non-health care facility',\n",
       " 'ReferralType_Transfer from Home Health Agency',\n",
       " 'ReferralType_Transfer from Hospice',\n",
       " 'ReferralType_Transfer from SNF or ICF',\n",
       " 'ReferralType_Transfer from hospital',\n",
       " 'LevelofCare_Continuous (CHC)',\n",
       " 'LevelofCare_Inpatient (GIP)',\n",
       " 'LevelofCare_Respite',\n",
       " 'LevelofCare_Routine',\n",
       " 'Race_American Indian or Alaskan Native',\n",
       " 'Race_Asian',\n",
       " 'Race_Black or African American',\n",
       " 'Race_Hispanic or Latino',\n",
       " 'Race_Native Hawaiian or Pacific Islander',\n",
       " 'Race_White',\n",
       " 'InsuranceType_Medicaid (HMO/Managed Care)',\n",
       " 'InsuranceType_Medicaid Room and Board',\n",
       " 'InsuranceType_Medicaid Traditional',\n",
       " 'InsuranceType_Medicare (Advantage/PFFS)',\n",
       " 'InsuranceType_Medicare (HMO/Per Visit)',\n",
       " 'InsuranceType_Medicare Traditional',\n",
       " 'InsuranceType_None- No Charge for Current Service',\n",
       " 'InsuranceType_Other',\n",
       " 'InsuranceType_Other Government',\n",
       " 'InsuranceType_Private HMO/Managed Care',\n",
       " 'InsuranceType_Private Insurance',\n",
       " 'InsuranceType_Private Pay',\n",
       " 'InsuranceType_Self-Pay',\n",
       " 'InsuranceType_TRICARE',\n",
       " 'InsuranceType_Title Progams (e.g. Title III, V, or XX)',\n",
       " 'InsuranceType_Unknown',\n",
       " 'InsuranceType_Veteran Administration Plan',\n",
       " 'icd10_cluster_Certain conditions originating in the perinatal period',\n",
       " 'icd10_cluster_Certain infectious and parasitic diseases',\n",
       " 'icd10_cluster_Congenital malformations, deformations and chromosomal abnormalities',\n",
       " 'icd10_cluster_Diseases of the blood and blood-forming organs and certain disorders involving the immune mechanism',\n",
       " 'icd10_cluster_Diseases of the circulatory system',\n",
       " 'icd10_cluster_Diseases of the digestive system',\n",
       " 'icd10_cluster_Diseases of the genitourinary system',\n",
       " 'icd10_cluster_Diseases of the musculoskeletal system and connective tissue',\n",
       " 'icd10_cluster_Diseases of the nervous system',\n",
       " 'icd10_cluster_Diseases of the respiratory system',\n",
       " 'icd10_cluster_Diseases of the skin and subcutaneous tissue',\n",
       " 'icd10_cluster_Endocrine, nutritional, and metabolic diseases',\n",
       " 'icd10_cluster_Factors influencing health status and contact with health services',\n",
       " 'icd10_cluster_Injury, poisonining, and certain other consequences of external causes',\n",
       " 'icd10_cluster_Mental and behavioural disorders',\n",
       " 'icd10_cluster_Neoplasms',\n",
       " 'icd10_cluster_Symptoms, signs and abnormal clinical and laboratory findings, not elsewhere classified']"
      ]
     },
     "execution_count": 9,
     "metadata": {},
     "output_type": "execute_result"
    }
   ],
   "source": [
    "feat_labels"
   ]
  },
  {
   "cell_type": "code",
   "execution_count": null,
   "metadata": {},
   "outputs": [],
   "source": [
    "%%time\n",
    "#random forest with 500 trees for MISSING DATA datasets\n",
    "forest = RandomForestClassifier(n_estimators = 500, random_state = 1)\n",
    "forest.fit(X_train, y_train)"
   ]
  },
  {
   "cell_type": "code",
   "execution_count": null,
   "metadata": {},
   "outputs": [],
   "source": [
    "importances = forest.feature_importances_\n",
    "indices = np.argsort(importances) [::-1]\n",
    "\n",
    "for f in range(X_train.shape[1]):\n",
    "    print(\"%2d) %-*s %f\" % (f + 1, 30, \n",
    "                           feat_labels[indices[f]],\n",
    "                           importances[indices[f]]))\n",
    "plt.title('Variable Importance')\n",
    "plt.bar(range(X_train.shape[1]),\n",
    "       importances[indices],\n",
    "       align='center')\n",
    "\n",
    "plt.xticks(range(X_train.shape[1]),\n",
    "          feat_labels, rotation = 90)\n",
    "plt.xlim([-1, X_train.shape[1]])\n",
    "plt.tight_layout()\n",
    "plt.show()"
   ]
  },
  {
   "cell_type": "code",
   "execution_count": null,
   "metadata": {},
   "outputs": [],
   "source": [
    "%%time\n",
    "# random forest with 500 trees for MEDIAN IMPUTATION dataset\n",
    "forest_med = RandomForestClassifier(n_estimators = 500, random_state = 1)\n",
    "forest_med.fit(X_train_med, y_train_med)"
   ]
  },
  {
   "cell_type": "code",
   "execution_count": null,
   "metadata": {},
   "outputs": [],
   "source": [
    "importances = forest_med.feature_importances_\n",
    "indices = np.argsort(importances) [::-1]\n",
    "\n",
    "for f in range(X_train_med.shape[1]):\n",
    "    print(\"%2d) %-*s %f\" % (f + 1, 30, \n",
    "                           feat_labels[indices[f]],\n",
    "                           importances[indices[f]]))\n",
    "plt.title('Variable Importance')\n",
    "plt.bar(range(X_train_med.shape[1]),\n",
    "       importances[indices],\n",
    "       align='center')\n",
    "\n",
    "plt.xticks(range(X_train_med.shape[1]),\n",
    "          feat_labels, rotation = 90)\n",
    "plt.xlim([-1, X_train_med.shape[1]])\n",
    "plt.tight_layout()\n",
    "plt.show()"
   ]
  }
 ],
 "metadata": {
  "kernelspec": {
   "display_name": "Python 3",
   "language": "python",
   "name": "python3"
  },
  "language_info": {
   "codemirror_mode": {
    "name": "ipython",
    "version": 3
   },
   "file_extension": ".py",
   "mimetype": "text/x-python",
   "name": "python",
   "nbconvert_exporter": "python",
   "pygments_lexer": "ipython3",
   "version": "3.6.4"
  }
 },
 "nbformat": 4,
 "nbformat_minor": 2
}
